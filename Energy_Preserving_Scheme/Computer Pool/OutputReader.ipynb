{
 "cells": [
  {
   "cell_type": "markdown",
   "metadata": {},
   "source": [
    "Reading data from the output file : "
   ]
  },
  {
   "cell_type": "code",
   "execution_count": 1,
   "metadata": {},
   "outputs": [],
   "source": [
    "import json\n",
    "import jax.numpy as jnp\n",
    "\n",
    "# File path\n",
    "file_path = 'output.json'\n",
    "\n",
    "# Reading the data from the JSON file\n",
    "with open(file_path, 'r') as json_file:\n",
    "    loaded_data = json.load(json_file)\n",
    "\n",
    "# Converting the data back to jax.numpy\n",
    "loaded_A1 = jnp.array(loaded_data['A1'])\n",
    "loaded_A2 = jnp.array(loaded_data['A2'])\n",
    "loaded_B1 = jnp.array(loaded_data['B1'])\n",
    "loaded_B2 = jnp.array(loaded_data['B2'])\n"
   ]
  },
  {
   "cell_type": "code",
   "execution_count": 8,
   "metadata": {},
   "outputs": [
    {
     "name": "stdout",
     "output_type": "stream",
     "text": [
      "upadated A1 : \n",
      " [[-3.6051343e-04 -3.6858188e-04 -3.3001282e-04 -3.5216357e-04]\n",
      " [ 2.0737529e-01  3.3228105e-01 -4.2604424e-02 -9.2122151e-04]\n",
      " [ 1.6621928e-01  6.6621643e-01  1.6627103e-01 -4.3710499e-04]\n",
      " [-1.8876130e-04 -1.6848034e-04 -1.4827248e-04 -1.8861560e-04]] \n",
      "\n",
      "upadated A2 : \n",
      " [[ 1.6730291e-01 -1.6600594e-01  6.7099335e-04  6.3446019e-04]\n",
      " [ 1.6690746e-01  3.3359849e-01  2.3997520e-04  2.3379755e-04]\n",
      " [ 1.6592284e-01  8.3257008e-01 -7.9256174e-04 -7.4555696e-04]\n",
      " [ 5.2976288e-04  5.4595497e-04  5.6067487e-04  5.2976952e-04]] \n",
      "\n",
      "upadated B1 : \n",
      " [ 1.6556497e-01  6.6300768e-01  1.6618825e-01 -1.1375156e-04] \n",
      "\n",
      "upadated B2 : \n",
      " [ 0.16536418  0.66464406  0.16421449 -0.00125869] \n",
      "\n"
     ]
    }
   ],
   "source": [
    "print(\"upadated A1 : \\n\", loaded_A1, \"\\n\")\n",
    "print(\"upadated A2 : \\n\", loaded_A2, \"\\n\")\n",
    "print(\"upadated B1 : \\n\", loaded_B1, \"\\n\")\n",
    "print(\"upadated B2 : \\n\", loaded_B2, \"\\n\")"
   ]
  },
  {
   "cell_type": "code",
   "execution_count": null,
   "metadata": {},
   "outputs": [],
   "source": []
  }
 ],
 "metadata": {
  "kernelspec": {
   "display_name": "pytorch_env",
   "language": "python",
   "name": "python3"
  },
  "language_info": {
   "codemirror_mode": {
    "name": "ipython",
    "version": 3
   },
   "file_extension": ".py",
   "mimetype": "text/x-python",
   "name": "python",
   "nbconvert_exporter": "python",
   "pygments_lexer": "ipython3",
   "version": "3.9.6"
  },
  "orig_nbformat": 4
 },
 "nbformat": 4,
 "nbformat_minor": 2
}
