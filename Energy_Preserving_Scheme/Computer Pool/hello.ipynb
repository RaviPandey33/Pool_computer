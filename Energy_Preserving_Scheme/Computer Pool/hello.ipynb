{
 "cells": [
  {
   "cell_type": "code",
   "execution_count": 2,
   "metadata": {},
   "outputs": [],
   "source": [
    "import json\n",
    "\n",
    "# Create a new JSON file with an empty list\n",
    "with open('hello_output.json', 'w') as file:\n",
    "    json.dump([], file)\n",
    "\n",
    "# Open the existing JSON file in read mode\n",
    "with open('hello_output.json', 'r') as file:\n",
    "    numbers = json.load(file)\n",
    "\n",
    "# Append new numbers to the list\n",
    "for i in range(1, 100):\n",
    "    numbers.append(i)\n",
    "\n",
    "# Write the updated list back to the JSON file\n",
    "with open('hello_output.json', 'w') as file:\n",
    "    json.dump(numbers, file)\n"
   ]
  },
  {
   "cell_type": "code",
   "execution_count": null,
   "metadata": {},
   "outputs": [],
   "source": []
  }
 ],
 "metadata": {
  "kernelspec": {
   "display_name": "pytorch_env",
   "language": "python",
   "name": "python3"
  },
  "language_info": {
   "codemirror_mode": {
    "name": "ipython",
    "version": 3
   },
   "file_extension": ".py",
   "mimetype": "text/x-python",
   "name": "python",
   "nbconvert_exporter": "python",
   "pygments_lexer": "ipython3",
   "version": "3.9.6"
  },
  "orig_nbformat": 4
 },
 "nbformat": 4,
 "nbformat_minor": 2
}
