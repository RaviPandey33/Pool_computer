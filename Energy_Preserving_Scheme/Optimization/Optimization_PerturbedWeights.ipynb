{
 "cells": [
  {
   "cell_type": "markdown",
   "metadata": {},
   "source": [
    "Remember only one table will be perturbed.. not both. \n",
    "\n",
    "The smaller steps table wont be changed, only the one with larger steps will be perturbed. \n"
   ]
  },
  {
   "cell_type": "code",
   "execution_count": null,
   "metadata": {},
   "outputs": [],
   "source": []
  }
 ],
 "metadata": {
  "language_info": {
   "name": "python"
  },
  "orig_nbformat": 4
 },
 "nbformat": 4,
 "nbformat_minor": 2
}
