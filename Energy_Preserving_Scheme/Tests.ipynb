{
 "cells": [
  {
   "cell_type": "code",
   "execution_count": 1,
   "metadata": {},
   "outputs": [],
   "source": [
    "import jax.numpy as jnp"
   ]
  },
  {
   "cell_type": "markdown",
   "metadata": {},
   "source": [
    "# Case 1 :"
   ]
  },
  {
   "cell_type": "markdown",
   "metadata": {},
   "source": [
    "![Alt text](image-1.png)"
   ]
  },
  {
   "cell_type": "code",
   "execution_count": 2,
   "metadata": {},
   "outputs": [],
   "source": [
    " # S.No. 1\n",
    "\n",
    "def F(Bi):\n",
    "    return jnp.sum(Bi)\n"
   ]
  },
  {
   "cell_type": "markdown",
   "metadata": {},
   "source": [
    "# Case 2 :"
   ]
  },
  {
   "cell_type": "markdown",
   "metadata": {},
   "source": [
    "![Alt text](image-2.png)"
   ]
  },
  {
   "cell_type": "code",
   "execution_count": 3,
   "metadata": {},
   "outputs": [],
   "source": [
    "# S.No. 2\n",
    "\n",
    "def FyF(Bi, Aij):\n",
    "    return jnp.sum(jnp.dot(Bi, Aij))"
   ]
  },
  {
   "cell_type": "code",
   "execution_count": null,
   "metadata": {},
   "outputs": [],
   "source": [
    "# S.No. 3\n",
    "\n",
    "def FzG(Bi, hAij):\n",
    "    return jnp.sum(jnp.dot(Bi, hAij))"
   ]
  },
  {
   "cell_type": "markdown",
   "metadata": {},
   "source": [
    "# Case 3 :"
   ]
  },
  {
   "cell_type": "markdown",
   "metadata": {},
   "source": [
    "![Alt text](image-4.png)"
   ]
  },
  {
   "cell_type": "code",
   "execution_count": null,
   "metadata": {},
   "outputs": [],
   "source": [
    "# S.No. 4\n",
    "\n",
    "def FyyFF(Bi, Aij):\n",
    "    ## find summation Bi Aij Aik\n",
    "    result = 0\n",
    "\n",
    "    for i in range(4):\n",
    "        for j in range(4):\n",
    "            for k in range(4):\n",
    "                result += Bi[i] * Aij[i, j] * Aij[i, k]\n",
    "    return result\n"
   ]
  },
  {
   "cell_type": "code",
   "execution_count": null,
   "metadata": {},
   "outputs": [],
   "source": [
    "# S.No. 5\n",
    "\n",
    "def FyzFG(Bi, Aij, hAij):\n",
    "    ## find summation Bi Aij hAik\n",
    "    result = 0\n",
    "\n",
    "    for i in range(4):\n",
    "        for j in range(4):\n",
    "            for k in range(4):\n",
    "                result += Bi[i] * Aij[i, j] * hAij[i, k]\n",
    "    return result\n"
   ]
  },
  {
   "cell_type": "markdown",
   "metadata": {},
   "source": [
    "![Alt text](image-5.png)"
   ]
  },
  {
   "cell_type": "code",
   "execution_count": null,
   "metadata": {},
   "outputs": [],
   "source": [
    "# S.No. 6\n",
    "\n",
    "def FzzGG(Bi, hAij):\n",
    "    ## find summation Bi hAij hAik\n",
    "    result = 0\n",
    "\n",
    "    for i in range(4):\n",
    "        for j in range(4):\n",
    "            for k in range(4):\n",
    "                result += Bi[i] * hAij[i, j] * hAij[i, k]\n",
    "    return result"
   ]
  },
  {
   "cell_type": "code",
   "execution_count": null,
   "metadata": {},
   "outputs": [],
   "source": [
    "# S.No. 7\n",
    "\n",
    "def FyFyF(Bi, Aij):\n",
    "    ## find summation Bi hAij hAik\n",
    "    result = 0\n",
    "\n",
    "    for i in range(4):\n",
    "        for j in range(4):\n",
    "            for k in range(4):\n",
    "                result += Bi[i] * Aij[i, j] * Aij[j, k]\n",
    "    return result"
   ]
  },
  {
   "cell_type": "markdown",
   "metadata": {},
   "source": [
    "![Alt text](image-6.png)"
   ]
  },
  {
   "cell_type": "code",
   "execution_count": null,
   "metadata": {},
   "outputs": [],
   "source": [
    "# S.No. 8\n",
    "\n",
    "def FyFzG(Bi, Aij, hAij):\n",
    "    ## find summation Bi hAij hAik\n",
    "    \n",
    "    result = 0\n",
    "\n",
    "    for i in range(4):\n",
    "        for j in range(4):\n",
    "            for k in range(4):\n",
    "                result += Bi[i] * Aij[i, j] * hAij[j, k]\n",
    "    return result\n",
    "    "
   ]
  },
  {
   "cell_type": "code",
   "execution_count": null,
   "metadata": {},
   "outputs": [],
   "source": [
    "# S.No. 9\n",
    "\n",
    "def FzGyF(Bi, Aij, hAij):\n",
    "    ## find summation Bi hAij hAik\n",
    "    result = 0\n",
    "\n",
    "    for i in range(4):\n",
    "        for j in range(4):\n",
    "            for k in range(4):\n",
    "                result += Bi[i] * hAij[i, j] * Aij[j, k]\n",
    "    return result"
   ]
  },
  {
   "cell_type": "markdown",
   "metadata": {},
   "source": [
    "![Alt text](image-7.png)"
   ]
  },
  {
   "cell_type": "code",
   "execution_count": null,
   "metadata": {},
   "outputs": [],
   "source": [
    "# S.No. 10\n",
    "\n",
    "def FzGyG(Bi, hAij):\n",
    "    ## find summation Bi hAij hAik\n",
    "    result = 0\n",
    "\n",
    "    for i in range(4):\n",
    "        for j in range(4):\n",
    "            for k in range(4):\n",
    "                result += Bi[i] * hAij[i, j] * hAij[j, k]\n",
    "    return result"
   ]
  },
  {
   "cell_type": "markdown",
   "metadata": {},
   "source": [
    "# Case 4 :"
   ]
  },
  {
   "cell_type": "markdown",
   "metadata": {},
   "source": [
    "![Alt text](image-8.png)"
   ]
  },
  {
   "cell_type": "code",
   "execution_count": null,
   "metadata": {},
   "outputs": [],
   "source": [
    "# S.No. 11 \n",
    "def G(hBi):\n",
    "    return jnp.sum(hBi)"
   ]
  },
  {
   "cell_type": "code",
   "execution_count": null,
   "metadata": {},
   "outputs": [],
   "source": [
    "# S.No. 12\n",
    "def GyF(hBi, hAij):\n",
    "    return jnp.sum(jnp.dot(hBi, hAij))"
   ]
  },
  {
   "cell_type": "markdown",
   "metadata": {},
   "source": [
    "Below code is only for testing purpose, delete after use :"
   ]
  },
  {
   "cell_type": "code",
   "execution_count": 17,
   "metadata": {},
   "outputs": [
    {
     "name": "stdout",
     "output_type": "stream",
     "text": [
      "0.01508\n"
     ]
    }
   ],
   "source": [
    "# import numpy as np\n",
    "# A = np.array([[0.1, 0.2, 0.3, 0.4],\n",
    "#               [0.5, 0.6, 0.7, 0.8],\n",
    "#               [0.9, 1.0, 1.1, 1.2],\n",
    "#               [1.3, 1.4, 1.5, 1.6]])\n",
    "\n",
    "# B = np.array([0.01, 0.02, 0.03, 0.04])\n",
    "\n",
    "# C = np.array([[0.001, 0.002, 0.003, 0.004],\n",
    "#               [0.005, 0.006, 0.007, 0.008],\n",
    "#               [0.009, 0.010, 0.011, 0.012],\n",
    "#               [0.013, 0.014, 0.015, 0.016]])\n",
    "\n",
    "# result_loop = 0\n",
    "\n",
    "# for i in range(4):\n",
    "#     for j in range(4):\n",
    "#         for k in range(4):\n",
    "#             result_loop += B[i] * A[i, j] * C[j, k]\n",
    "\n",
    "# print(result_loop)"
   ]
  },
  {
   "cell_type": "code",
   "execution_count": 18,
   "metadata": {},
   "outputs": [
    {
     "name": "stdout",
     "output_type": "stream",
     "text": [
      "0.014960000000000001\n"
     ]
    }
   ],
   "source": [
    "# A = np.array([[0.1, 0.2, 0.3, 0.4],\n",
    "#               [0.5, 0.6, 0.7, 0.8],\n",
    "#               [0.9, 1.0, 1.1, 1.2],\n",
    "#               [1.3, 1.4, 1.5, 1.6]])\n",
    "\n",
    "# B = np.array([0.01, 0.02, 0.03, 0.04])\n",
    "\n",
    "# C = np.array([[0.001, 0.002, 0.003, 0.004],\n",
    "#               [0.005, 0.006, 0.007, 0.008],\n",
    "#               [0.009, 0.010, 0.011, 0.012],\n",
    "#               [0.013, 0.014, 0.015, 0.016]])\n",
    "\n",
    "# # Perform the operation using NumPy\n",
    "# result_numpy = np.sum(B[:, np.newaxis, np.newaxis] * A * C)\n",
    "\n",
    "# print(result_numpy)"
   ]
  },
  {
   "cell_type": "code",
   "execution_count": null,
   "metadata": {},
   "outputs": [],
   "source": []
  }
 ],
 "metadata": {
  "kernelspec": {
   "display_name": "Python 3",
   "language": "python",
   "name": "python3"
  },
  "language_info": {
   "codemirror_mode": {
    "name": "ipython",
    "version": 3
   },
   "file_extension": ".py",
   "mimetype": "text/x-python",
   "name": "python",
   "nbconvert_exporter": "python",
   "pygments_lexer": "ipython3",
   "version": "3.9.6"
  },
  "orig_nbformat": 4
 },
 "nbformat": 4,
 "nbformat_minor": 2
}
