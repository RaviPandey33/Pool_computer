{
 "cells": [
  {
   "cell_type": "code",
   "execution_count": null,
   "metadata": {},
   "outputs": [],
   "source": [
    "import json\n",
    "import jax.numpy as jnp\n",
    "\n",
    "# File path\n",
    "file_path = 'output.json'\n",
    "\n",
    "# Reading the data from the JSON file\n",
    "with open(file_path, 'r') as json_file:\n",
    "    loaded_data = json.load(json_file)\n",
    "\n",
    "# Converting the data back to jax.numpy\n",
    "loaded_A1 = jnp.array(loaded_data['A1'])\n",
    "loaded_A2 = jnp.array(loaded_data['A2'])\n",
    "loaded_B1 = jnp.array(loaded_data['B1'])\n",
    "loaded_B2 = jnp.array(loaded_data['B2'])"
   ]
  },
  {
   "cell_type": "code",
   "execution_count": null,
   "metadata": {},
   "outputs": [],
   "source": [
    "print(\"upadated A1 : \\n\", loaded_A1, \"\\n\")\n",
    "print(\"upadated A2 : \\n\", loaded_A2, \"\\n\")\n",
    "print(\"upadated B1 : \\n\", loaded_B1, \"\\n\")\n",
    "print(\"upadated B2 : \\n\", loaded_B2, \"\\n\")"
   ]
  }
 ],
 "metadata": {
  "language_info": {
   "name": "python"
  },
  "orig_nbformat": 4
 },
 "nbformat": 4,
 "nbformat_minor": 2
}
