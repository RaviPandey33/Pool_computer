{
 "cells": [
  {
   "cell_type": "markdown",
   "metadata": {},
   "source": [
    "# Live Plots"
   ]
  },
  {
   "cell_type": "code",
   "execution_count": null,
   "metadata": {},
   "outputs": [],
   "source": [
    "import matplotlib.pyplot as plt\n",
    "import os\n",
    "import time\n",
    "\n",
    "# Initialize lists to store data\n",
    "sequence_numbers = []\n",
    "error_values = []\n",
    "\n",
    "# Function to read the last line of data from the file\n",
    "def read_last_line():\n",
    "    with open('data.txt', 'r') as file:\n",
    "        last_line = file.readlines()[-1]\n",
    "        seq, error = last_line.split()\n",
    "        sequence_numbers.append(int(seq))\n",
    "        error_values.append(float(error))\n",
    "\n",
    "# Function to update the plot\n",
    "def update_plot():\n",
    "    plt.cla()  # Clear the current plot\n",
    "    plt.plot(sequence_numbers, error_values, marker='o', color='b')\n",
    "    plt.xlabel('Sequence Numbers')\n",
    "    plt.ylabel('Error Values')\n",
    "    plt.title('Live Plotting')\n",
    "    plt.draw()\n",
    "    plt.pause(0.01)\n",
    "\n",
    "# Initial read of data\n",
    "read_last_line()\n",
    "\n",
    "# Create a figure and set the axis limits if needed\n",
    "plt.figure()\n",
    "plt.xlim(0, max(sequence_numbers))\n",
    "plt.ylim(0, max(error_values))\n",
    "\n",
    "# Continuously update the plot\n",
    "while True:\n",
    "    last_modification_time = os.path.getmtime('data.txt')\n",
    "    if last_modification_time > os.path.getmtime('last_read.txt'):\n",
    "        read_last_line()\n",
    "        update_plot()\n",
    "        os.utime('last_read.txt', None)\n",
    "    time.sleep(0.5)  # Sleep for 1 second before checking again\n"
   ]
  },
  {
   "cell_type": "markdown",
   "metadata": {},
   "source": [
    "# Reading data from the output file : "
   ]
  },
  {
   "cell_type": "code",
   "execution_count": 4,
   "metadata": {},
   "outputs": [],
   "source": [
    "import json\n",
    "import jax.numpy as jnp\n",
    "\n",
    "# File path\n",
    "file_path = 'BatchOutput.json'\n",
    "\n",
    "# Reading the data from the JSON file\n",
    "with open(file_path, 'r') as json_file:\n",
    "    loaded_data = json.load(json_file)\n",
    "\n",
    "# Converting the data back to jax.numpy\n",
    "loaded_A1 = jnp.array(loaded_data['A1'])\n",
    "loaded_A2 = jnp.array(loaded_data['A2'])\n",
    "loaded_B1 = jnp.array(loaded_data['B1'])\n",
    "loaded_B2 = jnp.array(loaded_data['B2'])\n"
   ]
  },
  {
   "cell_type": "code",
   "execution_count": 5,
   "metadata": {},
   "outputs": [
    {
     "name": "stdout",
     "output_type": "stream",
     "text": [
      "upadated A1 : \n",
      " [[-0.01215546 -0.01451929  0.018085    0.00858089]\n",
      " [ 0.06583627  0.18949625 -0.1453215  -0.11000742]\n",
      " [-0.09629517  0.42178407 -0.05345961 -0.2720382 ]\n",
      " [-0.00132495 -0.01822257 -0.00383879  0.02337275]] \n",
      "\n",
      "upadated A2 : \n",
      " [[ 0.16158678 -0.16775472  0.00850138 -0.00233302]\n",
      " [ 0.03548642  0.2075174  -0.11720973 -0.12579134]\n",
      " [-0.08621297  0.5815387  -0.23538816 -0.259935  ]\n",
      " [-0.00383513 -0.00451945  0.0011101   0.00724324]] \n",
      "\n",
      "upadated B1 : \n",
      " [ 9.7960674e-07 -4.0221485e-07  8.0719917e-07  2.5583964e-07] \n",
      "\n",
      "upadated B2 : \n",
      " [-1.8113708e-06 -6.5930794e-07 -3.6648155e-06  5.3017352e-06] \n",
      "\n"
     ]
    }
   ],
   "source": [
    "print(\"upadated A1 : \\n\", loaded_A1, \"\\n\")\n",
    "print(\"upadated A2 : \\n\", loaded_A2, \"\\n\")\n",
    "print(\"upadated B1 : \\n\", loaded_B1, \"\\n\")\n",
    "print(\"upadated B2 : \\n\", loaded_B2, \"\\n\")"
   ]
  },
  {
   "cell_type": "code",
   "execution_count": 6,
   "metadata": {},
   "outputs": [
    {
     "ename": "NameError",
     "evalue": "name 'error_list_2' is not defined",
     "output_type": "error",
     "traceback": [
      "\u001b[0;31m---------------------------------------------------------------------------\u001b[0m",
      "\u001b[0;31mNameError\u001b[0m                                 Traceback (most recent call last)",
      "\u001b[1;32m/Users/flyboyravi/Desktop/Work_Under_PP_Christian/VS_Code/Optimizing_Butchers_Table/Energy_Preserving_Scheme/Batch_learning/PlottingIntermediate_Results.ipynb Cell 4\u001b[0m line \u001b[0;36m1\n\u001b[0;32m----> <a href='vscode-notebook-cell:/Users/flyboyravi/Desktop/Work_Under_PP_Christian/VS_Code/Optimizing_Butchers_Table/Energy_Preserving_Scheme/Batch_learning/PlottingIntermediate_Results.ipynb#W3sZmlsZQ%3D%3D?line=0'>1</a>\u001b[0m a \u001b[39m=\u001b[39m \u001b[39mlist\u001b[39m(\u001b[39mrange\u001b[39m(\u001b[39m1\u001b[39m,\u001b[39mlen\u001b[39m(error_list_2)\u001b[39m+\u001b[39m\u001b[39m1\u001b[39m))\n\u001b[1;32m      <a href='vscode-notebook-cell:/Users/flyboyravi/Desktop/Work_Under_PP_Christian/VS_Code/Optimizing_Butchers_Table/Energy_Preserving_Scheme/Batch_learning/PlottingIntermediate_Results.ipynb#W3sZmlsZQ%3D%3D?line=2'>3</a>\u001b[0m \u001b[39m# Convergence\u001b[39;00m\n\u001b[1;32m      <a href='vscode-notebook-cell:/Users/flyboyravi/Desktop/Work_Under_PP_Christian/VS_Code/Optimizing_Butchers_Table/Energy_Preserving_Scheme/Batch_learning/PlottingIntermediate_Results.ipynb#W3sZmlsZQ%3D%3D?line=3'>4</a>\u001b[0m \u001b[39m# for i in range(0, len(error_list_1)):\u001b[39;00m\n\u001b[1;32m      <a href='vscode-notebook-cell:/Users/flyboyravi/Desktop/Work_Under_PP_Christian/VS_Code/Optimizing_Butchers_Table/Energy_Preserving_Scheme/Batch_learning/PlottingIntermediate_Results.ipynb#W3sZmlsZQ%3D%3D?line=4'>5</a>\u001b[0m \n\u001b[1;32m      <a href='vscode-notebook-cell:/Users/flyboyravi/Desktop/Work_Under_PP_Christian/VS_Code/Optimizing_Butchers_Table/Energy_Preserving_Scheme/Batch_learning/PlottingIntermediate_Results.ipynb#W3sZmlsZQ%3D%3D?line=5'>6</a>\u001b[0m \u001b[39m# plt.loglog(a, error_list_2, label = \"\",marker='o')\u001b[39;00m\n\u001b[1;32m      <a href='vscode-notebook-cell:/Users/flyboyravi/Desktop/Work_Under_PP_Christian/VS_Code/Optimizing_Butchers_Table/Energy_Preserving_Scheme/Batch_learning/PlottingIntermediate_Results.ipynb#W3sZmlsZQ%3D%3D?line=7'>8</a>\u001b[0m error_list_convergence \u001b[39m=\u001b[39m jnp\u001b[39m.\u001b[39marray(error_list_2)\n",
      "\u001b[0;31mNameError\u001b[0m: name 'error_list_2' is not defined"
     ]
    }
   ],
   "source": [
    "a = list(range(1,len(error_list_2)+1))\n",
    "\n",
    "# Convergence\n",
    "# for i in range(0, len(error_list_1)):\n",
    "\n",
    "# plt.loglog(a, error_list_2, label = \"\",marker='o')\n",
    "    \n",
    "error_list_convergence = jnp.array(error_list_2)\n",
    "error_list_convergence = jnp.log(error_list_convergence) / jnp.log(10)\n",
    "plt.plot(a, error_list_convergence, label = \"Error\",marker='o')\n",
    "\n",
    "\n",
    "plt.legend()\n",
    "plt.grid()\n",
    "plt.xlabel('Epoch')\n",
    "plt.ylabel('Error')"
   ]
  },
  {
   "cell_type": "code",
   "execution_count": null,
   "metadata": {},
   "outputs": [],
   "source": []
  }
 ],
 "metadata": {
  "kernelspec": {
   "display_name": "pytorch_env",
   "language": "python",
   "name": "python3"
  },
  "language_info": {
   "codemirror_mode": {
    "name": "ipython",
    "version": 3
   },
   "file_extension": ".py",
   "mimetype": "text/x-python",
   "name": "python",
   "nbconvert_exporter": "python",
   "pygments_lexer": "ipython3",
   "version": "3.9.6"
  },
  "orig_nbformat": 4
 },
 "nbformat": 4,
 "nbformat_minor": 2
}
