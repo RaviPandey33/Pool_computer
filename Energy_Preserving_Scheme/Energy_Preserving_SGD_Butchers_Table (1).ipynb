{
  "cells": [
    {
      "cell_type": "markdown",
      "metadata": {
        "id": "Tm2rqB9I5nrh"
      },
      "source": [
        "## Importing Modules :"
      ]
    },
    {
      "cell_type": "code",
      "execution_count": 64,
      "metadata": {
        "colab": {
          "base_uri": "https://localhost:8080/"
        },
        "id": "_9QNkgMu6PI7",
        "outputId": "6d114b97-69ad-4963-d5f7-2394a81135f7"
      },
      "outputs": [],
      "source": [
        "# installing optax and flax in colab! for optimization\n",
        "from jax.config import config\n",
        "config.update(\"jax_enable_x64\", True)  #double precision\n"
      ]
    },
    {
      "cell_type": "code",
      "execution_count": 78,
      "metadata": {},
      "outputs": [],
      "source": [
        "# import matplotlib.pyplot as plt\n",
        "# import matplotlib.animation as animation\n",
        "# from matplotlib import style\n",
        "\n",
        "# fig = plt.figure()\n",
        "# ax1 = fig.add_subplot(1,1,1)"
      ]
    },
    {
      "cell_type": "code",
      "execution_count": 74,
      "metadata": {
        "id": "NgzyxEGb8ffC"
      },
      "outputs": [],
      "source": [
        "import jax.numpy as jnp\n",
        "\n",
        "from skopt.space import Space\n",
        "from skopt.sampler import Halton\n",
        "from jax import jacfwd\n",
        "\n",
        "# Special Transform Functions\n",
        "from jax import grad, jit, vmap, pmap\n",
        "import jax\n",
        "from jax import jit\n",
        "\n",
        "from jax._src.lax.utils import (\n",
        "    _argnum_weak_type,\n",
        "    _input_dtype,\n",
        "    standard_primitive,)\n",
        "from jax._src.lax import lax\n",
        "from itertools import count\n",
        "index = count()\n",
        "from tqdm import tqdm, trange\n",
        "import prk_for_optimization as IRK4\n"
      ]
    },
    {
      "cell_type": "markdown",
      "metadata": {
        "id": "AbguHtf45jXv"
      },
      "source": [
        "# Functions :"
      ]
    },
    {
      "cell_type": "code",
      "execution_count": 75,
      "metadata": {
        "colab": {
          "base_uri": "https://localhost:8080/"
        },
        "id": "SflW86DV8m6P",
        "outputId": "8c6569ff-9f59-4d82-a23b-a0fa28a1f4d3"
      },
      "outputs": [],
      "source": [
        "def One_Dim_Matrix(A):\n",
        "    \"\"\"\n",
        "    We use this function to convert a 2D array into a 1D array containing only the lower triangular matrix of the 2D array.\n",
        "    : param A : a 2D array\n",
        "    : return : a 1D array\n",
        "\n",
        "    \"\"\"\n",
        "    dim_x, dim_y = A.shape\n",
        "    #print(dim_x, dim_y)\n",
        "    A = A.reshape(1, (dim_x * dim_y))\n",
        "    return A\n",
        "\n",
        "\n",
        "def Add_B_tomatrix_A(A, b):\n",
        "    \"\"\"\n",
        "    Given 2 1D arrays this function appends the second array at the end of first array.\n",
        "    : param A : 1D array\n",
        "    : param b : 1D array\n",
        "    : return : 1D array after appending array b to A\n",
        "\n",
        "    \"\"\"\n",
        "    A = jnp.append(A,b)\n",
        "    return A\n",
        "\n",
        "\n",
        "def Aminus(M, dr):\n",
        "    \"\"\"\n",
        "    THis function subtracts dr from M and then return the updated value of M\n",
        "    : param M : 1D array\n",
        "    : param dr : 1D array\n",
        "    : return : 1D array after subtracting dr from M\n",
        "\n",
        "    \"\"\"\n",
        "\n",
        "    M = M, dr\n",
        "    return M\n",
        "\n",
        "\n",
        "def Aplus(M, dr):\n",
        "    \"\"\"\n",
        "    THis function add dr to M and then return the updated value of M\n",
        "    : param M : 1D array\n",
        "    : param dr : 1D array\n",
        "    : return : 1D array after adding dr to M\n",
        "\n",
        "    \"\"\"\n",
        "\n",
        "    M = jnp.add(M, dr)\n",
        "    return M\n",
        "\n",
        "\n",
        "def actual_A_1D(A):\n",
        "    \"\"\"\n",
        "    This function takes in a 1D array and breaks it into 2 arrays.\n",
        "    : param A : 1D array\n",
        "    : return A_new : 1D array of length = 10\n",
        "    : return b1 : 1D array of length = 4\n",
        "\n",
        "    \"\"\"\n",
        "\n",
        "    b1 = A[16:20]\n",
        "    A_new = A[0:16]\n",
        "    return A_new, b1\n",
        "\n",
        "\n",
        "def actual_A1_A2(A): # from the returned gradient array of 20 elements, we find the elements of array A and array B\n",
        "                    # first 16 elemets belong to lower triangular elements of array A and 4 belongs to B\n",
        "    A1 = A[0:20]\n",
        "    A2 = A[20:40]\n",
        "    H_sequence = A[40:]\n",
        "    return A1, A2, H_sequence\n",
        "\n",
        "\n",
        "def One_D_to_TwoD(A):\n",
        "    \"\"\"\n",
        "    Using a 1D array, returned by the function @actual_A_1D , making a lower triangular matrix A2D\n",
        "    : param A : 1D array of length = 10\n",
        "    : return : 2D array\n",
        "\n",
        "    \"\"\"\n",
        "    A = A.reshape(4, 4)\n",
        "    return A\n",
        "\n",
        "\"\"\"\n",
        " : using the initial matrix A and B from the source given below :\n",
        " : wiki link : https://en.wikipedia.org/wiki/Runge%E2%80%93Kutta_methods#:~:text=is%5B13%5D-,0,1/6,-A%20slight%20variation\n",
        "\"\"\"\n",
        "# Lobatto IIIA and IIIB fourth-order\n",
        "\"\"\"\n",
        "A1 = jnp.array([\n",
        "     [0., 0., 0., 0.],\n",
        "     [5/24, 1/3, -1/24, 0.],\n",
        "     [1/6, 2/3, 1/6, 0.],\n",
        "     [0., 0., 0., 0.]])\n",
        "B1 = jnp.array([1/6, 2/3, 1/6, 0.])\n",
        "\n",
        "A2 = jnp.array([\n",
        "     [1/6, -1/6, 0., 0.],\n",
        "     [1/6, 1/3, 0., 0.],\n",
        "     [1/6, 5/6, 0., 0.],\n",
        "     [0., 0., 0., 0.]])\n",
        "B2 = jnp.array([1/6, 2/3, 1/6, 0.])\n",
        "\"\"\"\n",
        "\n",
        "# A1 = jnp.array([\n",
        "#      [-3.79785958e-04, -3.67738916e-04, -3.66609733e-04, -3.54059498e-04],\n",
        "#      [4.99588868e-01, -3.98680865e-04, -3.97527769e-04, -3.84584355e-04],\n",
        "#      [-4.11173512e-04, 4.99601272e-01, -3.97592005e-04, -3.84671344e-04],\n",
        "#      [-4.81541825e-04, -4.68739061e-04, 9.99532432e-01, -4.54287566e-04]])\n",
        "\n",
        "# A2 = jnp.array([\n",
        "#      [-3.11736027e-04, -2.94485578e-04, -2.93712618e-04, -2.76140987e-04],\n",
        "#      [4.99655359e-01, -3.27464211e-04, -3.26729921e-04, -3.09316939e-04],\n",
        "#      [-3.47133596e-04, 4.99670006e-01, -3.29267572e-04, -3.11898479e-04],\n",
        "#      [-3.40012311e-04, -3.23224123e-04, 9.99677453e-01, -3.05624000e-04]])\n",
        "\n",
        "# B1 = jnp.array([0.16600046, 0.33204984, 0.33202047, 0.16260358])\n",
        "# B2 = jnp.array([0.16641716, 0.33222953, 0.33218721, 0.16210258])\n",
        "\n",
        "\n",
        "A1 = A2 = jnp.array([\n",
        "     [0., 0., 0., 0.],\n",
        "     [1/2, 0., 0., 0.],\n",
        "     [0., 1/2, 0., 0.],\n",
        "     [0., 0., 1.0, 0.]])\n",
        "\n",
        "\n",
        "B1 = B2 = jnp.array([1/6, 1/6, 2/3, 1/6])\n",
        "\n",
        "\n",
        "## Lobatto IIIB methods are A-stable, but not L-stable and B-stable.\n",
        "\n",
        "\n",
        "## Making the Halton code\n",
        "\n",
        "spacedim = [(-0.5, 1.),(-0.5, 1.),(-0.5, 1.),(-0.5, 1.),(-0.5, 1.),(-0.5, 1.) ]\n",
        "\n",
        "space = Space(spacedim)\n",
        "\n",
        "halton = Halton()\n",
        "n = 10\n",
        "\n",
        "halton_sequence = halton.generate(space, n)\n",
        "halton_sequence = jnp.array(halton_sequence)\n"
      ]
    },
    {
      "cell_type": "markdown",
      "metadata": {
        "id": "mZ1j85DM8xkY"
      },
      "source": [
        "## ADAgrad using optax"
      ]
    },
    {
      "cell_type": "code",
      "execution_count": 76,
      "metadata": {
        "colab": {
          "base_uri": "https://localhost:8080/"
        },
        "id": "Wb5twCEG9Ocz",
        "outputId": "5236051d-1e5e-47fe-813e-77ee19f94983"
      },
      "outputs": [
        {
          "name": "stdout",
          "output_type": "stream",
          "text": [
            "(40,)\n"
          ]
        },
        {
          "name": "stderr",
          "output_type": "stream",
          "text": [
            "  0%|          | 0/100 [00:00<?, ?it/s]"
          ]
        },
        {
          "name": "stderr",
          "output_type": "stream",
          "text": [
            " 13%|█▎        | 13/100 [00:22<02:33,  1.76s/it]\n"
          ]
        },
        {
          "ename": "KeyboardInterrupt",
          "evalue": "",
          "output_type": "error",
          "traceback": [
            "\u001b[0;31m---------------------------------------------------------------------------\u001b[0m",
            "\u001b[0;31mKeyboardInterrupt\u001b[0m                         Traceback (most recent call last)",
            "Cell \u001b[0;32mIn[76], line 47\u001b[0m\n\u001b[1;32m     45\u001b[0m \u001b[39m# print(\"=======\", A1D.shape)\u001b[39;00m\n\u001b[1;32m     46\u001b[0m grad \u001b[39m=\u001b[39m jacfwd(IRK4\u001b[39m.\u001b[39mfind_error)\n\u001b[0;32m---> 47\u001b[0m gradF \u001b[39m=\u001b[39m grad(A1D, halton_sequence[i])\n\u001b[1;32m     48\u001b[0m \u001b[39m# print(gradF)\u001b[39;00m\n\u001b[1;32m     50\u001b[0m updates, opt_state \u001b[39m=\u001b[39m opt_sgd\u001b[39m.\u001b[39mupdate(gradF, opt_state)\n",
            "File \u001b[0;32m~/opt/miniconda3/envs/pytorch_env/lib/python3.9/site-packages/jax/_src/api.py:1373\u001b[0m, in \u001b[0;36mjacfwd.<locals>.jacfun\u001b[0;34m(*args, **kwargs)\u001b[0m\n\u001b[1;32m   1371\u001b[0m \u001b[39mif\u001b[39;00m \u001b[39mnot\u001b[39;00m has_aux:\n\u001b[1;32m   1372\u001b[0m   pushfwd \u001b[39m=\u001b[39m partial(_jvp, f_partial, dyn_args)\n\u001b[0;32m-> 1373\u001b[0m   y, jac \u001b[39m=\u001b[39m vmap(pushfwd, out_axes\u001b[39m=\u001b[39m(\u001b[39mNone\u001b[39;00m, \u001b[39m-\u001b[39m\u001b[39m1\u001b[39m))(_std_basis(dyn_args))\n\u001b[1;32m   1374\u001b[0m \u001b[39melse\u001b[39;00m:\n\u001b[1;32m   1375\u001b[0m   pushfwd \u001b[39m=\u001b[39m partial(_jvp, f_partial, dyn_args, has_aux\u001b[39m=\u001b[39m\u001b[39mTrue\u001b[39;00m)\n",
            "File \u001b[0;32m~/opt/miniconda3/envs/pytorch_env/lib/python3.9/site-packages/jax/_src/api.py:1553\u001b[0m, in \u001b[0;36m_std_basis\u001b[0;34m(pytree)\u001b[0m\n\u001b[1;32m   1551\u001b[0m dtype \u001b[39m=\u001b[39m dtypes\u001b[39m.\u001b[39mresult_type(\u001b[39m*\u001b[39mleaves)\n\u001b[1;32m   1552\u001b[0m flat_basis \u001b[39m=\u001b[39m jax\u001b[39m.\u001b[39mnumpy\u001b[39m.\u001b[39meye(ndim, dtype\u001b[39m=\u001b[39mdtype)\n\u001b[0;32m-> 1553\u001b[0m \u001b[39mreturn\u001b[39;00m _unravel_array_into_pytree(pytree, \u001b[39m1\u001b[39;49m, \u001b[39mNone\u001b[39;49;00m, flat_basis)\n",
            "File \u001b[0;32m~/opt/miniconda3/envs/pytorch_env/lib/python3.9/site-packages/jax/_src/api.py:1584\u001b[0m, in \u001b[0;36m_unravel_array_into_pytree\u001b[0;34m(pytree, axis, example, arr)\u001b[0m\n\u001b[1;32m   1582\u001b[0m axis \u001b[39m=\u001b[39m axis \u001b[39m%\u001b[39m arr\u001b[39m.\u001b[39mndim\n\u001b[1;32m   1583\u001b[0m shapes \u001b[39m=\u001b[39m [arr\u001b[39m.\u001b[39mshape[:axis] \u001b[39m+\u001b[39m np\u001b[39m.\u001b[39mshape(l) \u001b[39m+\u001b[39m arr\u001b[39m.\u001b[39mshape[axis\u001b[39m+\u001b[39m\u001b[39m1\u001b[39m:] \u001b[39mfor\u001b[39;00m l \u001b[39min\u001b[39;00m leaves]\n\u001b[0;32m-> 1584\u001b[0m parts \u001b[39m=\u001b[39m _split(arr, np\u001b[39m.\u001b[39;49mcumsum(\u001b[39mmap\u001b[39;49m(np\u001b[39m.\u001b[39;49msize, leaves[:\u001b[39m-\u001b[39;49m\u001b[39m1\u001b[39;49m])), axis)\n\u001b[1;32m   1585\u001b[0m reshaped_parts \u001b[39m=\u001b[39m [\n\u001b[1;32m   1586\u001b[0m     _possible_downcast(np\u001b[39m.\u001b[39mreshape(x, shape), leaf \u001b[39mif\u001b[39;00m example \u001b[39mis\u001b[39;00m \u001b[39mNone\u001b[39;00m \u001b[39melse\u001b[39;00m example)\n\u001b[1;32m   1587\u001b[0m     \u001b[39mfor\u001b[39;00m x, shape, leaf \u001b[39min\u001b[39;00m \u001b[39mzip\u001b[39m(parts, shapes, leaves)]\n\u001b[1;32m   1588\u001b[0m \u001b[39mreturn\u001b[39;00m tree_unflatten(treedef, reshaped_parts)\n",
            "File \u001b[0;32m~/opt/miniconda3/envs/pytorch_env/lib/python3.9/site-packages/jax/_src/api.py:1594\u001b[0m, in \u001b[0;36m_split\u001b[0;34m(x, indices, axis)\u001b[0m\n\u001b[1;32m   1592\u001b[0m   \u001b[39mreturn\u001b[39;00m np\u001b[39m.\u001b[39msplit(x, indices, axis)\n\u001b[1;32m   1593\u001b[0m \u001b[39melse\u001b[39;00m:\n\u001b[0;32m-> 1594\u001b[0m   \u001b[39mreturn\u001b[39;00m x\u001b[39m.\u001b[39;49msplit(indices, axis)\n",
            "File \u001b[0;32m~/opt/miniconda3/envs/pytorch_env/lib/python3.9/site-packages/jax/_src/numpy/lax_numpy.py:1232\u001b[0m, in \u001b[0;36msplit\u001b[0;34m(ary, indices_or_sections, axis)\u001b[0m\n\u001b[1;32m   1230\u001b[0m \u001b[39m@_wraps\u001b[39m(np\u001b[39m.\u001b[39msplit, lax_description\u001b[39m=\u001b[39m_ARRAY_VIEW_DOC)\n\u001b[1;32m   1231\u001b[0m \u001b[39mdef\u001b[39;00m \u001b[39msplit\u001b[39m(ary: ArrayLike, indices_or_sections: Union[\u001b[39mint\u001b[39m, ArrayLike], axis: \u001b[39mint\u001b[39m \u001b[39m=\u001b[39m \u001b[39m0\u001b[39m) \u001b[39m-\u001b[39m\u001b[39m>\u001b[39m List[Array]:\n\u001b[0;32m-> 1232\u001b[0m   \u001b[39mreturn\u001b[39;00m _split(\u001b[39m\"\u001b[39;49m\u001b[39msplit\u001b[39;49m\u001b[39m\"\u001b[39;49m, ary, indices_or_sections, axis\u001b[39m=\u001b[39;49maxis)\n",
            "File \u001b[0;32m~/opt/miniconda3/envs/pytorch_env/lib/python3.9/site-packages/jax/_src/numpy/lax_numpy.py:1195\u001b[0m, in \u001b[0;36m_split\u001b[0;34m(op, ary, indices_or_sections, axis)\u001b[0m\n\u001b[1;32m   1192\u001b[0m \u001b[39mdef\u001b[39;00m \u001b[39m_split\u001b[39m(op: \u001b[39mstr\u001b[39m, ary: ArrayLike, indices_or_sections: Union[\u001b[39mint\u001b[39m, ArrayLike],\n\u001b[1;32m   1193\u001b[0m            axis: \u001b[39mint\u001b[39m \u001b[39m=\u001b[39m \u001b[39m0\u001b[39m) \u001b[39m-\u001b[39m\u001b[39m>\u001b[39m List[Array]:\n\u001b[1;32m   1194\u001b[0m   _check_arraylike(op, ary)\n\u001b[0;32m-> 1195\u001b[0m   ary \u001b[39m=\u001b[39m asarray(ary)\n\u001b[1;32m   1196\u001b[0m   axis \u001b[39m=\u001b[39m core\u001b[39m.\u001b[39mconcrete_or_error(operator\u001b[39m.\u001b[39mindex, axis, \u001b[39mf\u001b[39m\u001b[39m\"\u001b[39m\u001b[39min jax.numpy.\u001b[39m\u001b[39m{\u001b[39;00mop\u001b[39m}\u001b[39;00m\u001b[39m argument `axis`\u001b[39m\u001b[39m\"\u001b[39m)\n\u001b[1;32m   1197\u001b[0m   size \u001b[39m=\u001b[39m ary\u001b[39m.\u001b[39mshape[axis]\n",
            "File \u001b[0;32m~/opt/miniconda3/envs/pytorch_env/lib/python3.9/site-packages/jax/_src/numpy/lax_numpy.py:2082\u001b[0m, in \u001b[0;36masarray\u001b[0;34m(a, dtype, order)\u001b[0m\n\u001b[1;32m   2080\u001b[0m lax_internal\u001b[39m.\u001b[39m_check_user_dtype_supported(dtype, \u001b[39m\"\u001b[39m\u001b[39masarray\u001b[39m\u001b[39m\"\u001b[39m)\n\u001b[1;32m   2081\u001b[0m dtype \u001b[39m=\u001b[39m dtypes\u001b[39m.\u001b[39mcanonicalize_dtype(dtype) \u001b[39mif\u001b[39;00m dtype \u001b[39mis\u001b[39;00m \u001b[39mnot\u001b[39;00m \u001b[39mNone\u001b[39;00m \u001b[39melse\u001b[39;00m dtype\n\u001b[0;32m-> 2082\u001b[0m \u001b[39mreturn\u001b[39;00m array(a, dtype\u001b[39m=\u001b[39;49mdtype, copy\u001b[39m=\u001b[39;49m\u001b[39mFalse\u001b[39;49;00m, order\u001b[39m=\u001b[39;49morder)\n",
            "File \u001b[0;32m~/opt/miniconda3/envs/pytorch_env/lib/python3.9/site-packages/jax/_src/numpy/lax_numpy.py:2063\u001b[0m, in \u001b[0;36marray\u001b[0;34m(object, dtype, copy, order, ndmin)\u001b[0m\n\u001b[1;32m   2059\u001b[0m     \u001b[39mreturn\u001b[39;00m array(np\u001b[39m.\u001b[39masarray(view), dtype, copy, ndmin\u001b[39m=\u001b[39mndmin)\n\u001b[1;32m   2061\u001b[0m   \u001b[39mraise\u001b[39;00m \u001b[39mTypeError\u001b[39;00m(\u001b[39mf\u001b[39m\u001b[39m\"\u001b[39m\u001b[39mUnexpected input type for array: \u001b[39m\u001b[39m{\u001b[39;00m\u001b[39mtype\u001b[39m(\u001b[39mobject\u001b[39m)\u001b[39m}\u001b[39;00m\u001b[39m\"\u001b[39m)\n\u001b[0;32m-> 2063\u001b[0m out_array: Array \u001b[39m=\u001b[39m lax_internal\u001b[39m.\u001b[39;49m_convert_element_type(out, dtype, weak_type\u001b[39m=\u001b[39;49mweak_type)\n\u001b[1;32m   2064\u001b[0m \u001b[39mif\u001b[39;00m ndmin \u001b[39m>\u001b[39m ndim(out_array):\n\u001b[1;32m   2065\u001b[0m   out_array \u001b[39m=\u001b[39m lax\u001b[39m.\u001b[39mexpand_dims(out_array, \u001b[39mrange\u001b[39m(ndmin \u001b[39m-\u001b[39m ndim(out_array)))\n",
            "File \u001b[0;32m~/opt/miniconda3/envs/pytorch_env/lib/python3.9/site-packages/jax/_src/lax/lax.py:571\u001b[0m, in \u001b[0;36m_convert_element_type\u001b[0;34m(operand, new_dtype, weak_type)\u001b[0m\n\u001b[1;32m    569\u001b[0m \u001b[39melse\u001b[39;00m:\n\u001b[1;32m    570\u001b[0m   new_dtype \u001b[39m=\u001b[39m np\u001b[39m.\u001b[39mdtype(new_dtype)\n\u001b[0;32m--> 571\u001b[0m new_dtype \u001b[39m=\u001b[39m dtypes\u001b[39m.\u001b[39;49mdtype(new_dtype, canonicalize\u001b[39m=\u001b[39;49m\u001b[39mTrue\u001b[39;49;00m)\n\u001b[1;32m    573\u001b[0m \u001b[39mif\u001b[39;00m (dtypes\u001b[39m.\u001b[39missubdtype(old_dtype, np\u001b[39m.\u001b[39mcomplexfloating) \u001b[39mand\u001b[39;00m\n\u001b[1;32m    574\u001b[0m     \u001b[39mnot\u001b[39;00m dtypes\u001b[39m.\u001b[39missubdtype(new_dtype, np\u001b[39m.\u001b[39mcomplexfloating)):\n\u001b[1;32m    575\u001b[0m   msg \u001b[39m=\u001b[39m \u001b[39m\"\u001b[39m\u001b[39mCasting complex values to real discards the imaginary part\u001b[39m\u001b[39m\"\u001b[39m\n",
            "File \u001b[0;32m~/opt/miniconda3/envs/pytorch_env/lib/python3.9/site-packages/jax/_src/dtypes.py:624\u001b[0m, in \u001b[0;36mdtype\u001b[0;34m(x, canonicalize)\u001b[0m\n\u001b[1;32m    622\u001b[0m \u001b[39mdef\u001b[39;00m \u001b[39mdtype\u001b[39m(x: Any, \u001b[39m*\u001b[39m, canonicalize: \u001b[39mbool\u001b[39m \u001b[39m=\u001b[39m \u001b[39mFalse\u001b[39;00m) \u001b[39m-\u001b[39m\u001b[39m>\u001b[39m DType:\n\u001b[1;32m    623\u001b[0m \u001b[39m  \u001b[39m\u001b[39m\"\"\"Return the dtype object for a value or type, optionally canonicalized based on X64 mode.\"\"\"\u001b[39;00m\n\u001b[0;32m--> 624\u001b[0m   \u001b[39mfrom\u001b[39;00m \u001b[39mjax\u001b[39;00m\u001b[39m.\u001b[39;00m\u001b[39m_src\u001b[39;00m \u001b[39mimport\u001b[39;00m core     \u001b[39m# TODO(frostig): break this cycle\u001b[39;00m\n\u001b[1;32m    625\u001b[0m   \u001b[39mif\u001b[39;00m x \u001b[39mis\u001b[39;00m \u001b[39mNone\u001b[39;00m:\n\u001b[1;32m    626\u001b[0m     \u001b[39mraise\u001b[39;00m \u001b[39mValueError\u001b[39;00m(\u001b[39mf\u001b[39m\u001b[39m\"\u001b[39m\u001b[39mInvalid argument to dtype: \u001b[39m\u001b[39m{\u001b[39;00mx\u001b[39m}\u001b[39;00m\u001b[39m.\u001b[39m\u001b[39m\"\u001b[39m)\n",
            "File \u001b[0;32m<frozen importlib._bootstrap>:1033\u001b[0m, in \u001b[0;36m_handle_fromlist\u001b[0;34m(module, fromlist, import_, recursive)\u001b[0m\n",
            "\u001b[0;31mKeyboardInterrupt\u001b[0m: "
          ]
        }
      ],
      "source": [
        "# Initial A1D\n",
        "\n",
        "A1D = One_Dim_Matrix(A1)\n",
        "A1D = Add_B_tomatrix_A(A1D, B1)\n",
        "\n",
        "A2D = One_Dim_Matrix(A2)\n",
        "A2D = Add_B_tomatrix_A(A2D, B2)\n",
        "\n",
        "A1D = Add_B_tomatrix_A(A1D, A2D)\n",
        "\n",
        "print(A1D.shape)\n",
        "\n",
        "import optax\n",
        "\n",
        "learning_rate = 0.01\n",
        "list_optimizers = [optax.adam(learning_rate)]\n",
        "# chosing Stochastic Gradient Descent Algorithm.\n",
        "# We have created a list here keeping in mind that we may apply all the optimizers in optax by storing their objects in the list\n",
        "\n",
        "opt_sgd = list_optimizers[0]\n",
        "opt_state = opt_sgd.init(A1D)\n",
        "# print(opt_state)\n",
        "\n",
        "params = A1D\n",
        "repetetion = 100\n",
        "\n",
        "# error_list = jnp.zeros((len(halton_sequence)*repetetion,))\n",
        "\n",
        "error_list_1 = []\n",
        "error_list_2 = []\n",
        "\n",
        "count = 0\n",
        "for i in range(100):\n",
        "  #A1D = Add_B_tomatrix_A(A1D, halton_sequence[i])\n",
        "  import jax.numpy as jnp\n",
        "\n",
        "\n",
        "\n",
        "  for epoch in trange(repetetion):\n",
        "    # print(epoch)\n",
        "    \"\"\"\n",
        "    rk4 = jit(IRK4.find_error)\n",
        "    grad = jax.grad(rk4)\n",
        "    \"\"\"\n",
        "    # print(\"=======\", A1D.shape)\n",
        "    grad = jacfwd(IRK4.find_error)\n",
        "    gradF = grad(A1D, halton_sequence[i])\n",
        "    # print(gradF)\n",
        "\n",
        "    updates, opt_state = opt_sgd.update(gradF, opt_state)\n",
        "\n",
        "    A1D = optax.apply_updates(A1D, updates)\n",
        "    # print(\"=======\", A1D.shape)\n",
        "    # print(gradF)\n",
        "    A1D = A1D.reshape(40, )\n",
        "\n",
        "    # eror = IRK4.find_error(A1D, halton_sequence[i])\n",
        "    # print(eror)\n",
        "    # error_list  = error_list.at[count].set(eror)\n",
        "    # print(A1D)\n",
        "\n",
        "    # count += 1\n",
        "  eror = IRK4.find_error(A1D, halton_sequence[i])\n",
        "  error_list_2.append(eror)\n",
        "\n",
        "A1D = A1D[:40]"
      ]
    },
    {
      "cell_type": "code",
      "execution_count": null,
      "metadata": {
        "colab": {
          "base_uri": "https://localhost:8080/"
        },
        "id": "8Y73IXJfuWp_",
        "outputId": "3a2c87f0-108d-4f0c-f29f-43f6f513e79b"
      },
      "outputs": [],
      "source": [
        "print(error_list_2)"
      ]
    },
    {
      "cell_type": "code",
      "execution_count": null,
      "metadata": {
        "colab": {
          "base_uri": "https://localhost:8080/"
        },
        "id": "BLhWApwaEkne",
        "outputId": "4a572465-252e-4511-ed2f-35bf47f6b4b5"
      },
      "outputs": [],
      "source": [
        "new_A1, new_b1 = actual_A_1D(A1D[0:20])\n",
        "new_A2, new_b2 = actual_A_1D(A1D[20:40])\n",
        "\n",
        "#converting A to a 2D Array\n",
        "new_A1 = One_D_to_TwoD(new_A1)\n",
        "new_A2 = One_D_to_TwoD(new_A2)\n",
        "\n",
        "print(new_A1)\n",
        "print(new_A2)"
      ]
    },
    {
      "cell_type": "code",
      "execution_count": null,
      "metadata": {
        "colab": {
          "base_uri": "https://localhost:8080/"
        },
        "id": "VZfJ6uXHkJX-",
        "outputId": "b634d69b-cae2-4207-c94b-979b852150da"
      },
      "outputs": [],
      "source": [
        "print(error_list_2)\n",
        "print(new_b1)\n",
        "print(new_b2)"
      ]
    },
    {
      "cell_type": "code",
      "execution_count": null,
      "metadata": {
        "colab": {
          "base_uri": "https://localhost:8080/",
          "height": 489
        },
        "id": "O_nCYnwXnVfV",
        "outputId": "db8a321b-e3d3-4b8e-add0-608bd0f88185"
      },
      "outputs": [],
      "source": [
        "import matplotlib.pyplot as plt\n",
        "a = list(range(1,len(error_list_2)+1))\n",
        "print(a[0])\n",
        "\n",
        "# Convergence\n",
        "plt.loglog(a, error_list_2, label = \"Error\",marker='o')\n",
        "\n",
        "# plt.plot(step_size_list_convergence, error_list_convergence, label = \"Error\",marker='o')\n",
        "plt.legend()\n",
        "plt.grid()\n",
        "plt.xlabel('Halton Sequence')\n",
        "plt.ylabel('Log Error')"
      ]
    },
    {
      "cell_type": "markdown",
      "metadata": {
        "id": "0MaZaD9Zn5tT"
      },
      "source": [
        "# Now applying the updated value to the PRK method, and checking the convergence"
      ]
    },
    {
      "cell_type": "code",
      "execution_count": 53,
      "metadata": {
        "id": "JYUp3vRfkFZK"
      },
      "outputs": [
        {
          "name": "stdout",
          "output_type": "stream",
          "text": [
            "(4, 4)\n",
            "(4,)\n",
            "======\n",
            "(1, 1)\n",
            "(1, 1)\n",
            "======\n",
            "======\n",
            "(10, 1)\n",
            "(10, 1)\n",
            "======\n",
            "======\n",
            "(100, 1)\n",
            "(100, 1)\n",
            "======\n",
            "======\n",
            "(1000, 1)\n",
            "(1000, 1)\n",
            "======\n"
          ]
        }
      ],
      "source": [
        "\n",
        "# RK4 4th order Table\n",
        "\n",
        "A1 = A2 = jnp.array([\n",
        "     [0., 0., 0., 0.],\n",
        "     [1/2, 0., 0., 0.],\n",
        "     [0., 1/2, 0., 0.],\n",
        "     [0., 0., 1.0, 0.]])\n",
        "\n",
        "\n",
        "B1 = B2 = jnp.array([1/6, 1/3, 1/3, 1/6])\n",
        "\n",
        "print(A1.shape)\n",
        "print(B1.shape)\n",
        "\n",
        "# A1 = new_A1\n",
        "# A2 = new_A2\n",
        "\n",
        "# B1 = new_b1\n",
        "# B2 = new_b2\n",
        "\n",
        "@jit\n",
        "def f(y, z):\n",
        "    return z\n",
        "@jit\n",
        "def g(y, z):\n",
        "    return -y\n",
        "\n",
        "\n",
        "def Energy_Function(y, z):\n",
        "    return (jnp.square(y) + jnp.square(z))/2\n",
        "\n",
        "@jit\n",
        "def PRK_step(y0 , z0, h, A1, A2, B1, B2):\n",
        "    s = A1.shape[0]\n",
        "    dim = jnp.size(y0)\n",
        "    tol = 10**(-10)\n",
        "    K_old = jnp.zeros((s,dim))\n",
        "    L_old = jnp.zeros((s,dim))\n",
        "\n",
        "    K_new = f((y0+ h*A1 @ K_old), (z0+ h*A2 @ L_old))\n",
        "    L_new = g((y0+ h*A1 @ K_old), (z0+ h*A2 @ L_old))\n",
        "\n",
        "    init_state = 0, K_new, L_new, K_old, L_old\n",
        "    \n",
        "    @jit\n",
        "    def body_while_loop(state):\n",
        "        _, K_new, L_new, K_old, L_old = state\n",
        "        K_old = K_new\n",
        "        L_old = L_new\n",
        "        K_new = f(y0+ h * A1 @ K_old, z0 + h * A2 @ L_old)\n",
        "        L_new = g(y0+ h * A1 @ K_old, z0 + h * A2 @ L_old)\n",
        "\n",
        "        return _, K_new, L_new, K_old, L_old\n",
        "    \n",
        "    @jit\n",
        "    def condition_while_loop(state):\n",
        "        _, K_new, L_new, K_old, L_old = state\n",
        "        norms = jnp.sum(jnp.array([jnp.linalg.norm(K_new - K_old) + jnp.linalg.norm(L_new - L_old)]))\n",
        "        return norms > tol\n",
        "\n",
        "    _, K_new, L_new, K_old, L_old = jax.lax.while_loop(condition_while_loop, body_while_loop, init_state)\n",
        "    yn = y0 + h * B1 @ K_new\n",
        "    zn = z0 + h * B2 @ L_new\n",
        "\n",
        "    return yn, zn\n",
        "\n",
        "if __name__ == \"__main__\":\n",
        "    time_factor = 1 # default\n",
        "\n",
        "    y0 = jnp.zeros((1,1))\n",
        "    z0 = jnp.ones((1,1))\n",
        "\n",
        "    NN = jnp.array([1, 10, 100, 1000])\n",
        "    istep = 10\n",
        "    step_size_list_convergence = []\n",
        "    o_error_list_convergence = []\n",
        "    c_error_list_convergence = []\n",
        "\n",
        "\n",
        "    for i in range(len(NN)):\n",
        "        yn_list = jnp.zeros((time_factor * NN[i], 1))\n",
        "        zn_list = jnp.zeros((time_factor * NN[i], 1))\n",
        "        iyn_list = jnp.zeros((time_factor * istep * NN[i] , 1))\n",
        "        izn_list = jnp.zeros((time_factor * istep * NN[i] , 1))\n",
        "\n",
        "\n",
        "        yn = zn = iyn = izn = []\n",
        "        h = time_factor/NN[i] #step size\n",
        "        y = iy = y0\n",
        "        z = iz = z0\n",
        "\n",
        "        \n",
        "        def fori_loop_1(i, state):\n",
        "            yn_list, zn_list, y, z, A1, A2, B1, B2 = state\n",
        "            y, z = PRK_step(y, z, h, A1, A2, B1, B2)\n",
        "            yn_list = yn_list.at[i].set(y.ravel())\n",
        "            zn_list = zn_list.at[i].set(z.ravel())\n",
        "            state = yn_list, zn_list, y, z, A1, A2, B1, B2\n",
        "\n",
        "            return state\n",
        "        init_state_yz = yn_list, zn_list, y, z, A1, A2, B1, B2\n",
        "        yn_list, zn_list, _, _, _, _, _, _ = jax.lax.fori_loop(0, time_factor * NN[i], fori_loop_1, init_state_yz)\n",
        "\n",
        "        @jit\n",
        "        def fori_loop_2(j, state):\n",
        "            iyn_list, izn_list, iy, iz, A1, A2, B1, B2 = state\n",
        "            iy, iz = PRK_step(iy, iz, h/istep, A1, A2, B1, B2)\n",
        "            iyn_list = iyn_list.at[j].set(iy.ravel())\n",
        "            izn_list = izn_list.at[j].set(iz.ravel())\n",
        "            state = iyn_list, izn_list, iy, iz, A1, A2, B1, B2\n",
        "\n",
        "            return state\n",
        "        init_state_iyz = iyn_list, izn_list, iy, iz, A1, A2, B1, B2\n",
        "        iyn_list, izn_list, _, _, _, _, _, _ = jax.lax.fori_loop(0, time_factor * istep * NN[i], fori_loop_2, init_state_iyz) # time istep\n",
        "        j1_iyn_list = iyn_list[9:time_factor*istep*NN[i]:10]\n",
        "        j2_izn_list = izn_list[9:time_factor*istep*NN[i]:10]\n",
        "\n",
        "\n",
        "        # this is for calculating the original error\n",
        "        tt1 =  jnp.linspace(h, 1, NN[i]*time_factor)\n",
        "        sine_value = jnp.sin(tt1)\n",
        "        cosine_value = jnp.cos(tt1)\n",
        "\n",
        "\n",
        "        # Finding error using original Value\n",
        "\n",
        "        err1 = yn_list.ravel() - sine_value #(yn_list, sine_value)\n",
        "        err2 = zn_list.ravel() - cosine_value #(zn_list, cosine_value)\n",
        "\n",
        "        original_error = jnp.sqrt((jnp.sum(jnp.square(err1))   ) / ( NN[i]))\n",
        "\n",
        "        o_error_list_convergence.append(original_error)\n",
        "        \"\"\"   \"\"\"\n",
        "        # Finding error using original Value\n",
        "\n",
        "        #### Calculating error with the smaller steps :\n",
        "\n",
        "        print(\"======\")\n",
        "        print(j1_iyn_list.shape)\n",
        "        print(yn_list.shape)\n",
        "        print(\"======\")\n",
        "\n",
        "        err1 = j1_iyn_list.ravel() - yn_list.ravel()\n",
        "        err2 = j2_izn_list.ravel() - zn_list.ravel()\n",
        "\n",
        "        final_error = (jnp.sum(jnp.abs(err1)) + jnp.sum(jnp.abs(err2))) / (2*NN[i])\n",
        "\n",
        "        #### Calculating error with the smaller steps :\n",
        "\n",
        "        c_error_list_convergence.append(final_error)\n",
        "\n",
        "        step_size_list_convergence.append(h)\n",
        "\n",
        "\n",
        "\n",
        "\n"
      ]
    },
    {
      "cell_type": "code",
      "execution_count": 54,
      "metadata": {
        "colab": {
          "base_uri": "https://localhost:8080/",
          "height": 472
        },
        "id": "yaNcNKykohkp",
        "outputId": "c1e7af55-4393-4ee4-a988-8907117d5e37"
      },
      "outputs": [
        {
          "data": {
            "text/plain": [
              "Text(0, 0.5, 'Log Error')"
            ]
          },
          "execution_count": 54,
          "metadata": {},
          "output_type": "execute_result"
        },
        {
          "data": {
            "image/png": "[encoded data removed]",
            "text/plain": [
              "<Figure size 640x480 with 1 Axes>"
            ]
          },
          "metadata": {},
          "output_type": "display_data"
        }
      ],
      "source": [
        "import matplotlib.pyplot as plt\n",
        "\n",
        "# log_step_size_list_convergence = np.log(step_size_list_convergence)/np.log(10)\n",
        "# log_error_list_convergence = np.log(error_list_convergence)/np.log(10)\n",
        "\n",
        "# Convergence\n",
        "plt.loglog(step_size_list_convergence, o_error_list_convergence, label = \"Error\",marker='o')\n",
        "plt.loglog(step_size_list_convergence, c_error_list_convergence, label = \"Error\",marker='s')\n",
        "\n",
        "# plt.plot(step_size_list_convergence, error_list_convergence, label = \"Error\",marker='o')\n",
        "plt.legend()\n",
        "plt.grid()\n",
        "plt.xlabel('Step Size')\n",
        "plt.ylabel('Log Error')"
      ]
    },
    {
      "cell_type": "code",
      "execution_count": 58,
      "metadata": {
        "id": "6ZtS4TAiozdA"
      },
      "outputs": [
        {
          "name": "stdout",
          "output_type": "stream",
          "text": [
            "1000\n"
          ]
        },
        {
          "data": {
            "text/plain": [
              "Text(0, 0.5, 'x')"
            ]
          },
          "execution_count": 58,
          "metadata": {},
          "output_type": "execute_result"
        },
        {
          "data": {
            "image/png": "[encoded data removed]",
            "text/plain": [
              "<Figure size 640x480 with 1 Axes>"
            ]
          },
          "metadata": {},
          "output_type": "display_data"
        }
      ],
      "source": [
        "t2 = jnp.arange(1, 1001, 1)\n",
        "plt.plot(t2, yn_list, label = \"y-t\", )\n",
        "plt.legend()\n",
        "plt.grid()\n",
        "plt.xlabel('t')\n",
        "plt.ylabel('x')\n",
        "     "
      ]
    },
    {
      "cell_type": "code",
      "execution_count": null,
      "metadata": {},
      "outputs": [],
      "source": [
        "t2 = jnp.arange(1, 1001, 1)\n",
        "plt.plot(t2, zn_list, label = \"z-t\", )\n",
        "plt.legend()\n",
        "plt.grid()\n",
        "plt.xlabel('t')\n",
        "plt.ylabel('x')"
      ]
    },
    {
      "cell_type": "code",
      "execution_count": 63,
      "metadata": {},
      "outputs": [
        {
          "data": {
            "image/png": "[encoded data removed]",
            "text/plain": [
              "<Figure size 640x480 with 1 Axes>"
            ]
          },
          "metadata": {},
          "output_type": "display_data"
        }
      ],
      "source": [
        "x = yn_list\n",
        "x = x.flatten()\n",
        "y = zn_list\n",
        "y = y.flatten()\n",
        "X, Y = jnp.meshgrid(x, y)\n",
        "Z = jnp.sin(jnp.sqrt(X**2 + Y**2))\n",
        "\n",
        "# Create the contour plot\n",
        "plt.contour(X, Y, Z)\n",
        "plt.title('Contour Plot')\n",
        "plt.xlabel('x')\n",
        "plt.ylabel('y')\n",
        "plt.show()"
      ]
    },
    {
      "cell_type": "code",
      "execution_count": null,
      "metadata": {},
      "outputs": [],
      "source": []
    }
  ],
  "metadata": {
    "colab": {
      "provenance": []
    },
    "kernelspec": {
      "display_name": "Python 3",
      "name": "python3"
    },
    "language_info": {
      "codemirror_mode": {
        "name": "ipython",
        "version": 3
      },
      "file_extension": ".py",
      "mimetype": "text/x-python",
      "name": "python",
      "nbconvert_exporter": "python",
      "pygments_lexer": "ipython3",
      "version": "3.9.6"
    }
  },
  "nbformat": 4,
  "nbformat_minor": 0
}
