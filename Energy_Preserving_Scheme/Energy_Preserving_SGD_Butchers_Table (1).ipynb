{
  "cells": [
    {
      "cell_type": "markdown",
      "metadata": {
        "id": "Tm2rqB9I5nrh"
      },
      "source": [
        "## Importing Modules :"
      ]
    },
    {
      "cell_type": "code",
      "execution_count": 1,
      "metadata": {
        "colab": {
          "base_uri": "https://localhost:8080/"
        },
        "id": "_9QNkgMu6PI7",
        "outputId": "6d114b97-69ad-4963-d5f7-2394a81135f7"
      },
      "outputs": [],
      "source": [
        "# installing optax and flax in colab! for optimization\n",
        "from jax.config import config\n",
        "config.update(\"jax_enable_x64\", True)  #double precision\n"
      ]
    },
    {
      "cell_type": "code",
      "execution_count": 2,
      "metadata": {
        "id": "NgzyxEGb8ffC"
      },
      "outputs": [],
      "source": [
        "import jax.numpy as jnp\n",
        "\n",
        "from skopt.space import Space\n",
        "from skopt.sampler import Halton\n",
        "from jax import jacfwd\n",
        "\n",
        "# Special Transform Functions\n",
        "from jax import grad, jit, vmap, pmap\n",
        "import jax\n",
        "from jax import jit\n",
        "\n",
        "from jax._src.lax.utils import (\n",
        "    _argnum_weak_type,\n",
        "    _input_dtype,\n",
        "    standard_primitive,)\n",
        "from jax._src.lax import lax\n",
        "from itertools import count\n",
        "index = count()\n",
        "from tqdm import tqdm, trange\n",
        "import prk_for_optimization as IRK4\n"
      ]
    },
    {
      "cell_type": "markdown",
      "metadata": {
        "id": "AbguHtf45jXv"
      },
      "source": [
        "# Functions :"
      ]
    },
    {
      "cell_type": "code",
      "execution_count": 3,
      "metadata": {
        "colab": {
          "base_uri": "https://localhost:8080/"
        },
        "id": "SflW86DV8m6P",
        "outputId": "8c6569ff-9f59-4d82-a23b-a0fa28a1f4d3"
      },
      "outputs": [],
      "source": [
        "def One_Dim_Matrix(A):\n",
        "    \"\"\"\n",
        "    We use this function to convert a 2D array into a 1D array containing only the lower triangular matrix of the 2D array.\n",
        "    : param A : a 2D array\n",
        "    : return : a 1D array\n",
        "\n",
        "    \"\"\"\n",
        "    dim_x, dim_y = A.shape\n",
        "    #print(dim_x, dim_y)\n",
        "    A = A.reshape(1, (dim_x * dim_y))\n",
        "    return A\n",
        "\n",
        "\n",
        "def Add_B_tomatrix_A(A, b):\n",
        "    \"\"\"\n",
        "    Given 2 1D arrays this function appends the second array at the end of first array.\n",
        "    : param A : 1D array\n",
        "    : param b : 1D array\n",
        "    : return : 1D array after appending array b to A\n",
        "\n",
        "    \"\"\"\n",
        "    A = jnp.append(A,b)\n",
        "    return A\n",
        "\n",
        "\n",
        "def Aminus(M, dr):\n",
        "    \"\"\"\n",
        "    THis function subtracts dr from M and then return the updated value of M\n",
        "    : param M : 1D array\n",
        "    : param dr : 1D array\n",
        "    : return : 1D array after subtracting dr from M\n",
        "\n",
        "    \"\"\"\n",
        "\n",
        "    M = M, dr\n",
        "    return M\n",
        "\n",
        "\n",
        "def Aplus(M, dr):\n",
        "    \"\"\"\n",
        "    THis function add dr to M and then return the updated value of M\n",
        "    : param M : 1D array\n",
        "    : param dr : 1D array\n",
        "    : return : 1D array after adding dr to M\n",
        "\n",
        "    \"\"\"\n",
        "\n",
        "    M = jnp.add(M, dr)\n",
        "    return M\n",
        "\n",
        "\n",
        "def actual_A_1D(A):\n",
        "    \"\"\"\n",
        "    This function takes in a 1D array and breaks it into 2 arrays.\n",
        "    : param A : 1D array\n",
        "    : return A_new : 1D array of length = 10\n",
        "    : return b1 : 1D array of length = 4\n",
        "\n",
        "    \"\"\"\n",
        "\n",
        "    b1 = A[16:20]\n",
        "    A_new = A[0:16]\n",
        "    return A_new, b1\n",
        "\n",
        "\n",
        "def actual_A1_A2(A): # from the returned gradient array of 20 elements, we find the elements of array A and array B\n",
        "                    # first 16 elemets belong to lower triangular elements of array A and 4 belongs to B\n",
        "    A1 = A[0:20]\n",
        "    A2 = A[20:40]\n",
        "    H_sequence = A[40:]\n",
        "    return A1, A2, H_sequence\n",
        "\n",
        "\n",
        "def One_D_to_TwoD(A):\n",
        "    \"\"\"\n",
        "    Using a 1D array, returned by the function @actual_A_1D , making a lower triangular matrix A2D\n",
        "    : param A : 1D array of length = 10\n",
        "    : return : 2D array\n",
        "\n",
        "    \"\"\"\n",
        "    A = A.reshape(4, 4)\n",
        "    return A\n",
        "\n",
        "\"\"\"\n",
        " : using the initial matrix A and B from the source given below :\n",
        " : wiki link : https://en.wikipedia.org/wiki/Runge%E2%80%93Kutta_methods#:~:text=is%5B13%5D-,0,1/6,-A%20slight%20variation\n",
        "\"\"\"\n",
        "# Lobatto IIIA and IIIB fourth-order\n",
        "\"\"\"\n",
        "A1 = jnp.array([\n",
        "     [0., 0., 0., 0.],\n",
        "     [5/24, 1/3, -1/24, 0.],\n",
        "     [1/6, 2/3, 1/6, 0.],\n",
        "     [0., 0., 0., 0.]])\n",
        "B1 = jnp.array([1/6, 2/3, 1/6, 0.])\n",
        "\n",
        "A2 = jnp.array([\n",
        "     [1/6, -1/6, 0., 0.],\n",
        "     [1/6, 1/3, 0., 0.],\n",
        "     [1/6, 5/6, 0., 0.],\n",
        "     [0., 0., 0., 0.]])\n",
        "B2 = jnp.array([1/6, 2/3, 1/6, 0.])\n",
        "\"\"\"\n",
        "\n",
        "# A1 = jnp.array([\n",
        "#      [-3.79785958e-04, -3.67738916e-04, -3.66609733e-04, -3.54059498e-04],\n",
        "#      [4.99588868e-01, -3.98680865e-04, -3.97527769e-04, -3.84584355e-04],\n",
        "#      [-4.11173512e-04, 4.99601272e-01, -3.97592005e-04, -3.84671344e-04],\n",
        "#      [-4.81541825e-04, -4.68739061e-04, 9.99532432e-01, -4.54287566e-04]])\n",
        "\n",
        "# A2 = jnp.array([\n",
        "#      [-3.11736027e-04, -2.94485578e-04, -2.93712618e-04, -2.76140987e-04],\n",
        "#      [4.99655359e-01, -3.27464211e-04, -3.26729921e-04, -3.09316939e-04],\n",
        "#      [-3.47133596e-04, 4.99670006e-01, -3.29267572e-04, -3.11898479e-04],\n",
        "#      [-3.40012311e-04, -3.23224123e-04, 9.99677453e-01, -3.05624000e-04]])\n",
        "\n",
        "# B1 = jnp.array([0.16600046, 0.33204984, 0.33202047, 0.16260358])\n",
        "# B2 = jnp.array([0.16641716, 0.33222953, 0.33218721, 0.16210258])\n",
        "\n",
        "\n",
        "A1 = A2 = jnp.array([\n",
        "     [0., 0., 0., 0.],\n",
        "     [1/2, 0., 0., 0.],\n",
        "     [0., 1/2, 0., 0.],\n",
        "     [0., 0., 1.0, 0.]])\n",
        "\n",
        "\n",
        "B1 = B2 = jnp.array([1/6, 1/6, 2/3, 1/6])\n",
        "\n",
        "\n",
        "## Lobatto IIIB methods are A-stable, but not L-stable and B-stable.\n",
        "\n",
        "\n",
        "## Making the Halton code\n",
        "\n",
        "spacedim = [(-0.5, 1.),(-0.5, 1.),(-0.5, 1.),(-0.5, 1.),(-0.5, 1.),(-0.5, 1.) ]\n",
        "\n",
        "space = Space(spacedim)\n",
        "\n",
        "halton = Halton()\n",
        "n = 10\n",
        "\n",
        "halton_sequence = halton.generate(space, n)\n",
        "halton_sequence = jnp.array(halton_sequence)\n"
      ]
    },
    {
      "cell_type": "markdown",
      "metadata": {
        "id": "mZ1j85DM8xkY"
      },
      "source": [
        "## ADAgrad using optax"
      ]
    },
    {
      "cell_type": "code",
      "execution_count": 4,
      "metadata": {
        "colab": {
          "base_uri": "https://localhost:8080/"
        },
        "id": "Wb5twCEG9Ocz",
        "outputId": "5236051d-1e5e-47fe-813e-77ee19f94983"
      },
      "outputs": [
        {
          "name": "stdout",
          "output_type": "stream",
          "text": [
            "(40,)\n"
          ]
        },
        {
          "name": "stderr",
          "output_type": "stream",
          "text": [
            "100%|██████████| 100/100 [01:20<00:00,  1.24it/s]\n",
            "100%|██████████| 100/100 [01:19<00:00,  1.25it/s]\n",
            "100%|██████████| 100/100 [01:21<00:00,  1.23it/s]\n",
            "100%|██████████| 100/100 [01:22<00:00,  1.22it/s]\n",
            "100%|██████████| 100/100 [01:22<00:00,  1.21it/s]\n",
            "100%|██████████| 100/100 [01:22<00:00,  1.21it/s]\n",
            "100%|██████████| 100/100 [01:23<00:00,  1.19it/s]\n",
            "100%|██████████| 100/100 [01:23<00:00,  1.20it/s]\n",
            "100%|██████████| 100/100 [01:22<00:00,  1.21it/s]\n",
            "100%|██████████| 100/100 [01:26<00:00,  1.16it/s]\n",
            "100%|██████████| 100/100 [01:36<00:00,  1.04it/s]\n",
            "100%|██████████| 100/100 [01:24<00:00,  1.18it/s]\n",
            "100%|██████████| 100/100 [01:28<00:00,  1.13it/s]\n",
            "100%|██████████| 100/100 [01:25<00:00,  1.18it/s]\n",
            "100%|██████████| 100/100 [01:25<00:00,  1.17it/s]\n",
            "100%|██████████| 100/100 [01:25<00:00,  1.17it/s]\n",
            "100%|██████████| 100/100 [01:27<00:00,  1.14it/s]\n",
            "100%|██████████| 100/100 [01:28<00:00,  1.13it/s]\n",
            "100%|██████████| 100/100 [01:29<00:00,  1.12it/s]\n",
            "100%|██████████| 100/100 [01:24<00:00,  1.18it/s]\n",
            "100%|██████████| 100/100 [01:35<00:00,  1.04it/s]\n",
            "100%|██████████| 100/100 [01:46<00:00,  1.06s/it]\n",
            "100%|██████████| 100/100 [01:32<00:00,  1.08it/s]\n",
            "100%|██████████| 100/100 [01:47<00:00,  1.08s/it]\n",
            "100%|██████████| 100/100 [01:36<00:00,  1.03it/s]\n",
            "100%|██████████| 100/100 [01:41<00:00,  1.02s/it]\n",
            "100%|██████████| 100/100 [01:33<00:00,  1.07it/s]\n",
            "100%|██████████| 100/100 [01:40<00:00,  1.01s/it]\n",
            "100%|██████████| 100/100 [01:31<00:00,  1.09it/s]\n",
            "100%|██████████| 100/100 [01:45<00:00,  1.06s/it]\n",
            "100%|██████████| 100/100 [01:39<00:00,  1.00it/s]\n",
            "100%|██████████| 100/100 [01:31<00:00,  1.09it/s]\n",
            "100%|██████████| 100/100 [01:41<00:00,  1.02s/it]\n",
            "100%|██████████| 100/100 [01:35<00:00,  1.04it/s]\n",
            "100%|██████████| 100/100 [01:49<00:00,  1.10s/it]\n",
            "100%|██████████| 100/100 [02:00<00:00,  1.21s/it]\n",
            "100%|██████████| 100/100 [01:45<00:00,  1.06s/it]\n",
            "100%|██████████| 100/100 [02:00<00:00,  1.20s/it]\n",
            "100%|██████████| 100/100 [02:14<00:00,  1.34s/it]\n",
            "100%|██████████| 100/100 [02:12<00:00,  1.33s/it]\n",
            "100%|██████████| 100/100 [02:12<00:00,  1.32s/it]\n",
            "100%|██████████| 100/100 [02:08<00:00,  1.28s/it]\n",
            "100%|██████████| 100/100 [02:17<00:00,  1.37s/it]\n",
            "100%|██████████| 100/100 [02:14<00:00,  1.34s/it]\n",
            "100%|██████████| 100/100 [01:55<00:00,  1.16s/it]\n",
            "100%|██████████| 100/100 [02:23<00:00,  1.44s/it]\n",
            "100%|██████████| 100/100 [01:36<00:00,  1.04it/s]\n",
            "100%|██████████| 100/100 [01:43<00:00,  1.04s/it]\n",
            "100%|██████████| 100/100 [01:33<00:00,  1.07it/s]\n",
            "100%|██████████| 100/100 [01:39<00:00,  1.00it/s]\n",
            "100%|██████████| 100/100 [01:51<00:00,  1.11s/it]\n",
            "100%|██████████| 100/100 [01:54<00:00,  1.14s/it]\n",
            "100%|██████████| 100/100 [02:07<00:00,  1.27s/it]\n",
            "100%|██████████| 100/100 [02:19<00:00,  1.40s/it]\n",
            "100%|██████████| 100/100 [02:09<00:00,  1.30s/it]\n",
            "100%|██████████| 100/100 [01:47<00:00,  1.07s/it]\n",
            "100%|██████████| 100/100 [01:55<00:00,  1.15s/it]\n",
            "100%|██████████| 100/100 [01:54<00:00,  1.14s/it]\n",
            "100%|██████████| 100/100 [01:37<00:00,  1.03it/s]\n",
            "100%|██████████| 100/100 [01:44<00:00,  1.04s/it]\n",
            "100%|██████████| 100/100 [01:38<00:00,  1.02it/s]\n",
            "100%|██████████| 100/100 [01:43<00:00,  1.04s/it]\n",
            "100%|██████████| 100/100 [01:33<00:00,  1.07it/s]\n",
            "100%|██████████| 100/100 [01:42<00:00,  1.03s/it]\n",
            "100%|██████████| 100/100 [01:33<00:00,  1.07it/s]\n",
            "100%|██████████| 100/100 [01:39<00:00,  1.01it/s]\n",
            "100%|██████████| 100/100 [01:38<00:00,  1.01it/s]\n",
            "100%|██████████| 100/100 [01:32<00:00,  1.09it/s]\n",
            "100%|██████████| 100/100 [01:39<00:00,  1.00it/s]\n",
            "100%|██████████| 100/100 [01:32<00:00,  1.08it/s]\n",
            "100%|██████████| 100/100 [01:46<00:00,  1.07s/it]\n",
            "100%|██████████| 100/100 [01:51<00:00,  1.12s/it]\n",
            "100%|██████████| 100/100 [01:46<00:00,  1.06s/it]\n",
            "100%|██████████| 100/100 [01:36<00:00,  1.04it/s]\n",
            "100%|██████████| 100/100 [01:43<00:00,  1.03s/it]\n",
            "100%|██████████| 100/100 [01:43<00:00,  1.03s/it]\n",
            "100%|██████████| 100/100 [01:34<00:00,  1.06it/s]\n",
            "100%|██████████| 100/100 [01:40<00:00,  1.01s/it]\n",
            "100%|██████████| 100/100 [01:34<00:00,  1.05it/s]\n",
            "100%|██████████| 100/100 [01:41<00:00,  1.02s/it]\n",
            "100%|██████████| 100/100 [01:35<00:00,  1.05it/s]\n",
            "100%|██████████| 100/100 [01:44<00:00,  1.05s/it]\n",
            "100%|██████████| 100/100 [01:36<00:00,  1.03it/s]\n",
            "100%|██████████| 100/100 [01:42<00:00,  1.02s/it]\n",
            "100%|██████████| 100/100 [01:35<00:00,  1.05it/s]\n",
            "100%|██████████| 100/100 [01:44<00:00,  1.04s/it]\n",
            "100%|██████████| 100/100 [01:43<00:00,  1.03s/it]\n",
            "100%|██████████| 100/100 [01:38<00:00,  1.01it/s]\n",
            "100%|██████████| 100/100 [01:59<00:00,  1.19s/it]\n",
            "100%|██████████| 100/100 [01:41<00:00,  1.01s/it]\n",
            "100%|██████████| 100/100 [01:48<00:00,  1.09s/it]\n",
            "100%|██████████| 100/100 [01:38<00:00,  1.01it/s]\n",
            "100%|██████████| 100/100 [01:43<00:00,  1.03s/it]\n",
            "100%|██████████| 100/100 [01:37<00:00,  1.03it/s]\n",
            "100%|██████████| 100/100 [01:43<00:00,  1.04s/it]\n",
            "100%|██████████| 100/100 [01:44<00:00,  1.05s/it]\n",
            "100%|██████████| 100/100 [01:37<00:00,  1.03it/s]\n",
            "100%|██████████| 100/100 [01:45<00:00,  1.06s/it]\n",
            "100%|██████████| 100/100 [01:37<00:00,  1.02it/s]\n",
            "100%|██████████| 100/100 [01:44<00:00,  1.05s/it]\n"
          ]
        }
      ],
      "source": [
        "# Initial A1D\n",
        "\n",
        "A1D = One_Dim_Matrix(A1)\n",
        "A1D = Add_B_tomatrix_A(A1D, B1)\n",
        "\n",
        "A2D = One_Dim_Matrix(A2)\n",
        "A2D = Add_B_tomatrix_A(A2D, B2)\n",
        "\n",
        "A1D = Add_B_tomatrix_A(A1D, A2D)\n",
        "\n",
        "print(A1D.shape)\n",
        "\n",
        "import optax\n",
        "\n",
        "learning_rate = 0.01\n",
        "list_optimizers = [optax.adam(learning_rate)]\n",
        "# chosing Stochastic Gradient Descent Algorithm.\n",
        "# We have created a list here keeping in mind that we may apply all the optimizers in optax by storing their objects in the list\n",
        "\n",
        "opt_sgd = list_optimizers[0]\n",
        "opt_state = opt_sgd.init(A1D)\n",
        "# print(opt_state)\n",
        "\n",
        "params = A1D\n",
        "repetetion = 100\n",
        "\n",
        "# error_list = jnp.zeros((len(halton_sequence)*repetetion,))\n",
        "\n",
        "error_list_1 = []\n",
        "error_list_2 = []\n",
        "\n",
        "count = 0\n",
        "for i in range(100):\n",
        "  #A1D = Add_B_tomatrix_A(A1D, halton_sequence[i])\n",
        "  import jax.numpy as jnp\n",
        "\n",
        "\n",
        "\n",
        "  for epoch in trange(repetetion):\n",
        "    # print(epoch)\n",
        "    \"\"\"\n",
        "    rk4 = jit(IRK4.find_error)\n",
        "    grad = jax.grad(rk4)\n",
        "    \"\"\"\n",
        "    # print(\"=======\", A1D.shape)\n",
        "    grad = jacfwd(IRK4.find_error)\n",
        "    gradF = grad(A1D, halton_sequence[i])\n",
        "    # print(gradF)\n",
        "\n",
        "    updates, opt_state = opt_sgd.update(gradF, opt_state)\n",
        "\n",
        "    A1D = optax.apply_updates(A1D, updates)\n",
        "    # print(\"=======\", A1D.shape)\n",
        "    # print(gradF)\n",
        "    A1D = A1D.reshape(40, )\n",
        "\n",
        "    # eror = IRK4.find_error(A1D, halton_sequence[i])\n",
        "    # print(eror)\n",
        "    # error_list  = error_list.at[count].set(eror)\n",
        "    # print(A1D)\n",
        "\n",
        "    # count += 1\n",
        "  eror = IRK4.find_error(A1D, halton_sequence[i])\n",
        "  error_list_2.append(eror)\n",
        "\n",
        "A1D = A1D[:40]"
      ]
    },
    {
      "cell_type": "code",
      "execution_count": 5,
      "metadata": {
        "colab": {
          "base_uri": "https://localhost:8080/"
        },
        "id": "8Y73IXJfuWp_",
        "outputId": "3a2c87f0-108d-4f0c-f29f-43f6f513e79b"
      },
      "outputs": [
        {
          "name": "stdout",
          "output_type": "stream",
          "text": [
            "[Array(2.98424196e-05, dtype=float64), Array(2.59784087e-06, dtype=float64), Array(3.68837373e-06, dtype=float64), Array(0.00010718, dtype=float64), Array(1.09300114e-06, dtype=float64), Array(1.26878597e-05, dtype=float64), Array(2.39611326e-07, dtype=float64), Array(1.28708514e-05, dtype=float64), Array(4.80824814e-05, dtype=float64), Array(3.1181209e-05, dtype=float64), Array(2.67270316e-05, dtype=float64), Array(5.83467567e-05, dtype=float64), Array(4.79479955e-05, dtype=float64), Array(3.19867644e-05, dtype=float64), Array(6.29498321e-06, dtype=float64), Array(1.92928344e-05, dtype=float64), Array(3.29566675e-05, dtype=float64), Array(8.56164212e-06, dtype=float64), Array(5.00326092e-05, dtype=float64), Array(3.40909822e-05, dtype=float64), Array(2.67859528e-05, dtype=float64), Array(1.00402677e-05, dtype=float64), Array(2.46543094e-05, dtype=float64), Array(1.68201557e-05, dtype=float64), Array(1.38391928e-05, dtype=float64), Array(1.2693695e-05, dtype=float64), Array(2.2464244e-05, dtype=float64), Array(9.77969417e-06, dtype=float64), Array(2.39499147e-06, dtype=float64), Array(8.52571811e-06, dtype=float64), Array(9.08131113e-06, dtype=float64), Array(3.6535357e-06, dtype=float64), Array(1.68840796e-06, dtype=float64), Array(5.311807e-06, dtype=float64), Array(1.1717583e-06, dtype=float64), Array(6.30675538e-07, dtype=float64), Array(1.90883651e-06, dtype=float64), Array(1.23194e-06, dtype=float64), Array(6.54704105e-07, dtype=float64), Array(1.63702935e-06, dtype=float64), Array(5.14131601e-07, dtype=float64), Array(3.12721329e-08, dtype=float64), Array(1.13048314e-07, dtype=float64), Array(2.61370097e-08, dtype=float64), Array(2.63989189e-09, dtype=float64), Array(2.31186655e-09, dtype=float64), Array(1.38826609e-10, dtype=float64), Array(3.20572624e-11, dtype=float64), Array(9.08417994e-11, dtype=float64), Array(3.27916055e-11, dtype=float64), Array(7.48115458e-13, dtype=float64), Array(1.81200749e-12, dtype=float64), Array(4.20700974e-13, dtype=float64), Array(1.93037253e-13, dtype=float64), Array(1.55736535e-14, dtype=float64), Array(5.32074385e-15, dtype=float64), Array(1.5043522e-15, dtype=float64), Array(2.67424971e-15, dtype=float64), Array(1.54459778e-15, dtype=float64), Array(1.05054854e-14, dtype=float64), Array(1.22069022e-14, dtype=float64), Array(2.81719092e-15, dtype=float64), Array(1.99285033e-15, dtype=float64), Array(3.97182287e-15, dtype=float64), Array(1.22651889e-14, dtype=float64), Array(2.97956104e-15, dtype=float64), Array(8.08658696e-15, dtype=float64), Array(5.14172038e-15, dtype=float64), Array(9.88514826e-15, dtype=float64), Array(4.32431868e-15, dtype=float64), Array(3.4333647e-15, dtype=float64), Array(3.4139358e-15, dtype=float64), Array(7.1026518e-15, dtype=float64), Array(7.41351425e-15, dtype=float64), Array(9.52182777e-14, dtype=float64), Array(8.22675261e-15, dtype=float64), Array(2.07175943e-13, dtype=float64), Array(7.82165999e-14, dtype=float64), Array(1.10883525e-13, dtype=float64), Array(1.70884959e-11, dtype=float64), Array(1.2800661e-08, dtype=float64), Array(3.19583564e-07, dtype=float64), Array(2.33577101e-07, dtype=float64), Array(7.32381828e-07, dtype=float64), Array(1.98187697e-07, dtype=float64), Array(8.65337164e-07, dtype=float64), Array(2.37064515e-07, dtype=float64), Array(4.5053859e-07, dtype=float64), Array(1.53477708e-08, dtype=float64), Array(1.81415356e-08, dtype=float64), Array(2.2307189e-08, dtype=float64), Array(9.51070514e-10, dtype=float64), Array(2.8313756e-09, dtype=float64), Array(3.12863811e-10, dtype=float64), Array(9.08297604e-12, dtype=float64), Array(2.83037385e-11, dtype=float64), Array(9.96944552e-10, dtype=float64), Array(1.25585178e-09, dtype=float64), Array(7.86378688e-09, dtype=float64), Array(7.35884401e-06, dtype=float64)]\n"
          ]
        }
      ],
      "source": [
        "print(error_list_2)"
      ]
    },
    {
      "cell_type": "code",
      "execution_count": 6,
      "metadata": {
        "colab": {
          "base_uri": "https://localhost:8080/"
        },
        "id": "BLhWApwaEkne",
        "outputId": "4a572465-252e-4511-ed2f-35bf47f6b4b5"
      },
      "outputs": [
        {
          "name": "stdout",
          "output_type": "stream",
          "text": [
            "[[ 0.01241327  0.00555385  0.0058485   0.00382204]\n",
            " [ 0.37960439 -0.12007016 -0.11834579 -0.11674852]\n",
            " [-0.11341301  0.37974452 -0.11984452 -0.12112968]\n",
            " [-0.24737787 -0.25017171  0.74966721 -0.25020227]]\n",
            "[[ 0.01498143  0.00635335  0.00608864 -0.00128228]\n",
            " [ 0.39041929 -0.11654413 -0.11603697 -0.1225959 ]\n",
            " [-0.08877396  0.40126946 -0.09821981 -0.10589156]\n",
            " [-0.24020158 -0.24641243  0.75328666 -0.25215023]]\n"
          ]
        }
      ],
      "source": [
        "new_A1, new_b1 = actual_A_1D(A1D[0:20])\n",
        "new_A2, new_b2 = actual_A_1D(A1D[20:40])\n",
        "\n",
        "#converting A to a 2D Array\n",
        "new_A1 = One_D_to_TwoD(new_A1)\n",
        "new_A2 = One_D_to_TwoD(new_A2)\n",
        "\n",
        "print(new_A1)\n",
        "print(new_A2)"
      ]
    },
    {
      "cell_type": "code",
      "execution_count": 7,
      "metadata": {
        "colab": {
          "base_uri": "https://localhost:8080/"
        },
        "id": "VZfJ6uXHkJX-",
        "outputId": "b634d69b-cae2-4207-c94b-979b852150da"
      },
      "outputs": [
        {
          "name": "stdout",
          "output_type": "stream",
          "text": [
            "[Array(2.98424196e-05, dtype=float64), Array(2.59784087e-06, dtype=float64), Array(3.68837373e-06, dtype=float64), Array(0.00010718, dtype=float64), Array(1.09300114e-06, dtype=float64), Array(1.26878597e-05, dtype=float64), Array(2.39611326e-07, dtype=float64), Array(1.28708514e-05, dtype=float64), Array(4.80824814e-05, dtype=float64), Array(3.1181209e-05, dtype=float64), Array(2.67270316e-05, dtype=float64), Array(5.83467567e-05, dtype=float64), Array(4.79479955e-05, dtype=float64), Array(3.19867644e-05, dtype=float64), Array(6.29498321e-06, dtype=float64), Array(1.92928344e-05, dtype=float64), Array(3.29566675e-05, dtype=float64), Array(8.56164212e-06, dtype=float64), Array(5.00326092e-05, dtype=float64), Array(3.40909822e-05, dtype=float64), Array(2.67859528e-05, dtype=float64), Array(1.00402677e-05, dtype=float64), Array(2.46543094e-05, dtype=float64), Array(1.68201557e-05, dtype=float64), Array(1.38391928e-05, dtype=float64), Array(1.2693695e-05, dtype=float64), Array(2.2464244e-05, dtype=float64), Array(9.77969417e-06, dtype=float64), Array(2.39499147e-06, dtype=float64), Array(8.52571811e-06, dtype=float64), Array(9.08131113e-06, dtype=float64), Array(3.6535357e-06, dtype=float64), Array(1.68840796e-06, dtype=float64), Array(5.311807e-06, dtype=float64), Array(1.1717583e-06, dtype=float64), Array(6.30675538e-07, dtype=float64), Array(1.90883651e-06, dtype=float64), Array(1.23194e-06, dtype=float64), Array(6.54704105e-07, dtype=float64), Array(1.63702935e-06, dtype=float64), Array(5.14131601e-07, dtype=float64), Array(3.12721329e-08, dtype=float64), Array(1.13048314e-07, dtype=float64), Array(2.61370097e-08, dtype=float64), Array(2.63989189e-09, dtype=float64), Array(2.31186655e-09, dtype=float64), Array(1.38826609e-10, dtype=float64), Array(3.20572624e-11, dtype=float64), Array(9.08417994e-11, dtype=float64), Array(3.27916055e-11, dtype=float64), Array(7.48115458e-13, dtype=float64), Array(1.81200749e-12, dtype=float64), Array(4.20700974e-13, dtype=float64), Array(1.93037253e-13, dtype=float64), Array(1.55736535e-14, dtype=float64), Array(5.32074385e-15, dtype=float64), Array(1.5043522e-15, dtype=float64), Array(2.67424971e-15, dtype=float64), Array(1.54459778e-15, dtype=float64), Array(1.05054854e-14, dtype=float64), Array(1.22069022e-14, dtype=float64), Array(2.81719092e-15, dtype=float64), Array(1.99285033e-15, dtype=float64), Array(3.97182287e-15, dtype=float64), Array(1.22651889e-14, dtype=float64), Array(2.97956104e-15, dtype=float64), Array(8.08658696e-15, dtype=float64), Array(5.14172038e-15, dtype=float64), Array(9.88514826e-15, dtype=float64), Array(4.32431868e-15, dtype=float64), Array(3.4333647e-15, dtype=float64), Array(3.4139358e-15, dtype=float64), Array(7.1026518e-15, dtype=float64), Array(7.41351425e-15, dtype=float64), Array(9.52182777e-14, dtype=float64), Array(8.22675261e-15, dtype=float64), Array(2.07175943e-13, dtype=float64), Array(7.82165999e-14, dtype=float64), Array(1.10883525e-13, dtype=float64), Array(1.70884959e-11, dtype=float64), Array(1.2800661e-08, dtype=float64), Array(3.19583564e-07, dtype=float64), Array(2.33577101e-07, dtype=float64), Array(7.32381828e-07, dtype=float64), Array(1.98187697e-07, dtype=float64), Array(8.65337164e-07, dtype=float64), Array(2.37064515e-07, dtype=float64), Array(4.5053859e-07, dtype=float64), Array(1.53477708e-08, dtype=float64), Array(1.81415356e-08, dtype=float64), Array(2.2307189e-08, dtype=float64), Array(9.51070514e-10, dtype=float64), Array(2.8313756e-09, dtype=float64), Array(3.12863811e-10, dtype=float64), Array(9.08297604e-12, dtype=float64), Array(2.83037385e-11, dtype=float64), Array(9.96944552e-10, dtype=float64), Array(1.25585178e-09, dtype=float64), Array(7.86378688e-09, dtype=float64), Array(7.35884401e-06, dtype=float64)]\n",
            "[ 0.00088138 -0.00013115  0.01275952  0.00082121]\n",
            "[ 0.00986364  0.00522522 -0.00242369  0.00778634]\n"
          ]
        }
      ],
      "source": [
        "print(error_list_2)\n",
        "print(new_b1)\n",
        "print(new_b2)"
      ]
    },
    {
      "cell_type": "code",
      "execution_count": 8,
      "metadata": {
        "colab": {
          "base_uri": "https://localhost:8080/",
          "height": 489
        },
        "id": "O_nCYnwXnVfV",
        "outputId": "db8a321b-e3d3-4b8e-add0-608bd0f88185"
      },
      "outputs": [
        {
          "name": "stdout",
          "output_type": "stream",
          "text": [
            "1\n"
          ]
        },
        {
          "data": {
            "text/plain": [
              "Text(0, 0.5, 'Log Error')"
            ]
          },
          "execution_count": 8,
          "metadata": {},
          "output_type": "execute_result"
        },
        {
          "data": {
            "image/png": "[encoded data removed]",
            "text/plain": [
              "<Figure size 640x480 with 1 Axes>"
            ]
          },
          "metadata": {},
          "output_type": "display_data"
        }
      ],
      "source": [
        "import matplotlib.pyplot as plt\n",
        "a = list(range(1,len(error_list_2)+1))\n",
        "print(a[0])\n",
        "\n",
        "# Convergence\n",
        "plt.loglog(a, error_list_2, label = \"Error\",marker='o')\n",
        "\n",
        "# plt.plot(step_size_list_convergence, error_list_convergence, label = \"Error\",marker='o')\n",
        "plt.legend()\n",
        "plt.grid()\n",
        "plt.xlabel('Step Size')\n",
        "plt.ylabel('Log Error')"
      ]
    },
    {
      "cell_type": "markdown",
      "metadata": {
        "id": "0MaZaD9Zn5tT"
      },
      "source": [
        "# Now applying the updated value to the PRK method, and checking the convergence"
      ]
    },
    {
      "cell_type": "code",
      "execution_count": 9,
      "metadata": {
        "id": "JYUp3vRfkFZK"
      },
      "outputs": [],
      "source": [
        "\n",
        "# RK4 4th order Table\n",
        "A1 = new_A1\n",
        "A2 = new_A2\n",
        "\n",
        "B1 = new_b1\n",
        "B2 = new_b2\n",
        "\n",
        "def f(y, z):\n",
        "    return z\n",
        "\n",
        "def g(y, z):\n",
        "    return -y\n",
        "\n",
        "\n",
        "def Energy_Function(y, z):\n",
        "    return (jnp.square(y) + jnp.square(z))/2\n",
        "\n",
        "def PRK_step(y0 , z0, h, A1, A2, B1, B2):\n",
        "    s = A1.shape[0]\n",
        "    dim = jnp.size(y0)\n",
        "    tol = 10**(-10)\n",
        "    K_old = jnp.zeros((s,dim))\n",
        "    L_old = jnp.zeros((s,dim))\n",
        "\n",
        "    K_new = f((y0+ h*A1 @ K_old), (z0+ h*A2 @ L_old))\n",
        "    L_new = g((y0+ h*A1 @ K_old), (z0+ h*A2 @ L_old))\n",
        "\n",
        "\n",
        "    init_state = 0, K_new, L_new, K_old, L_old\n",
        "    def body_while_loop(state):\n",
        "        _, K_new, L_new, K_old, L_old = state\n",
        "        K_old = K_new\n",
        "        L_old = L_new\n",
        "        K_new = f(y0+ h * A1 @ K_old, z0 + h * A2 @ L_old)\n",
        "        L_new = g(y0+ h * A1 @ K_old, z0 + h * A2 @ L_old)\n",
        "\n",
        "        return _, K_new, L_new, K_old, L_old\n",
        "\n",
        "    def condition_while_loop(state):\n",
        "        _, K_new, L_new, K_old, L_old = state\n",
        "        norms = jnp.sum(jnp.array([jnp.linalg.norm(K_new - K_old) + jnp.linalg.norm(L_new - L_old)]))\n",
        "        return norms > tol\n",
        "\n",
        "    _, K_new, L_new, K_old, L_old = jax.lax.while_loop(condition_while_loop, body_while_loop, init_state)\n",
        "    yn = y0 + h * B1 @ K_new\n",
        "    zn = z0 + h * B2 @ L_new\n",
        "\n",
        "    return yn, zn\n",
        "\n",
        "if __name__ == \"__main__\":\n",
        "    time_factor = 1 # default\n",
        "\n",
        "    y0 = jnp.zeros((1,1))\n",
        "    z0 = jnp.ones((1,1))\n",
        "\n",
        "    NN = jnp.array([1, 10, 100])\n",
        "    istep = 10\n",
        "    step_size_list_convergence = []\n",
        "    o_error_list_convergence = []\n",
        "    c_error_list_convergence = []\n",
        "\n",
        "\n",
        "    for i in range(len(NN)):\n",
        "        yn_list = jnp.zeros((time_factor * NN[i], 1))\n",
        "        zn_list = jnp.zeros((time_factor * NN[i], 1))\n",
        "        iyn_list = jnp.zeros((time_factor * istep * NN[i] , 1))\n",
        "        izn_list = jnp.zeros((time_factor * istep * NN[i] , 1))\n",
        "\n",
        "        temp_yn = []\n",
        "        temp_zn = []\n",
        "        temp_iyn = []\n",
        "        temp_izn = []\n",
        "\n",
        "        yn = zn = iyn = izn = []\n",
        "        h = time_factor/NN[i] #step size\n",
        "        y = iy = y0\n",
        "        z = iz = z0\n",
        "\n",
        "        def fori_loop_1(i, state):\n",
        "            yn_list, zn_list, y, z, A1, A2, B1, B2 = state\n",
        "            y, z = PRK_step(y, z, h, A1, A2, B1, B2)\n",
        "            yn_list = yn_list.at[i].set(y.ravel())\n",
        "            zn_list = zn_list.at[i].set(z.ravel())\n",
        "            state = yn_list, zn_list, y, z, A1, A2, B1, B2\n",
        "\n",
        "            return state\n",
        "        init_state_yz = yn_list, zn_list, y, z, A1, A2, B1, B2\n",
        "        yn_list, zn_list, _, _, _, _, _, _ = jax.lax.fori_loop(0, time_factor * NN[i], fori_loop_1, init_state_yz)\n",
        "\n",
        "        def fori_loop_2(j, state):\n",
        "            iyn_list, izn_list, iy, iz, A1, A2, B1, B2 = state\n",
        "            iy, iz = PRK_step(iy, iz, h/istep, A1, A2, B1, B2)\n",
        "            iyn_list = iyn_list.at[j].set(iy.ravel())\n",
        "            izn_list = izn_list.at[j].set(iz.ravel())\n",
        "            state = iyn_list, izn_list, iy, iz, A1, A2, B1, B2\n",
        "\n",
        "            return state\n",
        "        init_state_iyz = iyn_list, izn_list, iy, iz, A1, A2, B1, B2\n",
        "        iyn_list, izn_list, _, _, _, _, _, _ = jax.lax.fori_loop(0, time_factor * istep * NN[i], fori_loop_2, init_state_iyz) # time istep\n",
        "        j1_iyn_list = iyn_list[9:istep*NN[i]:10]\n",
        "        j2_izn_list = izn_list[9:istep*NN[i]:10]\n",
        "\n",
        "\n",
        "        # this is for calculating the original error\n",
        "        tt1 =  jnp.linspace(h, 1, NN[i]*time_factor)\n",
        "        sine_value = jnp.sin(tt1)\n",
        "        cosine_value = jnp.cos(tt1)\n",
        "\n",
        "\n",
        "        # Finding error using original Value\n",
        "\n",
        "        err1 = jnp.subtract(yn_list.flatten(), sine_value) #(yn_list, sine_value)\n",
        "        err2 = jnp.subtract( zn_list.flatten(), cosine_value) #(zn_list, cosine_value)\n",
        "\n",
        "        original_error = jnp.sqrt((jnp.sum(jnp.square(err1))   ) / ( NN[i]))\n",
        "\n",
        "        o_error_list_convergence.append(original_error)\n",
        "        \"\"\"   \"\"\"\n",
        "        # Finding error using original Value\n",
        "\n",
        "        #### Calculating error with the smaller steps :\n",
        "\n",
        "        err1 = j1_iyn_list.ravel() - yn_list.ravel()\n",
        "        err2 = j2_izn_list.ravel(), zn_list.ravel()\n",
        "\n",
        "        final_error = (jnp.sum(jnp.abs(err1)) + jnp.sum(jnp.array(err2))) / (2*NN[i])\n",
        "\n",
        "        #### Calculating error with the smaller steps :\n",
        "\n",
        "        c_error_list_convergence.append(final_error)\n",
        "\n",
        "        step_size_list_convergence.append(h)\n",
        "\n",
        "\n",
        "\n"
      ]
    },
    {
      "cell_type": "code",
      "execution_count": 10,
      "metadata": {
        "colab": {
          "base_uri": "https://localhost:8080/",
          "height": 472
        },
        "id": "yaNcNKykohkp",
        "outputId": "c1e7af55-4393-4ee4-a988-8907117d5e37"
      },
      "outputs": [
        {
          "data": {
            "text/plain": [
              "Text(0, 0.5, 'Log Error')"
            ]
          },
          "execution_count": 10,
          "metadata": {},
          "output_type": "execute_result"
        },
        {
          "data": {
            "image/png": "[encoded data removed]",
            "text/plain": [
              "<Figure size 640x480 with 1 Axes>"
            ]
          },
          "metadata": {},
          "output_type": "display_data"
        }
      ],
      "source": [
        "import matplotlib.pyplot as plt\n",
        "\n",
        "# log_step_size_list_convergence = np.log(step_size_list_convergence)/np.log(10)\n",
        "# log_error_list_convergence = np.log(error_list_convergence)/np.log(10)\n",
        "\n",
        "# Convergence\n",
        "plt.loglog(step_size_list_convergence, o_error_list_convergence, label = \"Error\",marker='o')\n",
        "plt.loglog(step_size_list_convergence, c_error_list_convergence, label = \"Error\",marker='s')\n",
        "\n",
        "# plt.plot(step_size_list_convergence, error_list_convergence, label = \"Error\",marker='o')\n",
        "plt.legend()\n",
        "plt.grid()\n",
        "plt.xlabel('Step Size')\n",
        "plt.ylabel('Log Error')"
      ]
    },
    {
      "cell_type": "code",
      "execution_count": null,
      "metadata": {
        "id": "6ZtS4TAiozdA"
      },
      "outputs": [],
      "source": []
    }
  ],
  "metadata": {
    "colab": {
      "provenance": []
    },
    "kernelspec": {
      "display_name": "Python 3",
      "name": "python3"
    },
    "language_info": {
      "codemirror_mode": {
        "name": "ipython",
        "version": 3
      },
      "file_extension": ".py",
      "mimetype": "text/x-python",
      "name": "python",
      "nbconvert_exporter": "python",
      "pygments_lexer": "ipython3",
      "version": "3.9.6"
    }
  },
  "nbformat": 4,
  "nbformat_minor": 0
}
