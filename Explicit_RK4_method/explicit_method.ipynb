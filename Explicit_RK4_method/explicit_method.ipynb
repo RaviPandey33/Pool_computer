{
 "cells": [
  {
   "cell_type": "code",
   "execution_count": 2,
   "metadata": {},
   "outputs": [
    {
     "name": "stdout",
     "output_type": "stream",
     "text": [
      "[1 2 3]\n"
     ]
    }
   ],
   "source": [
    "import jax.numpy as jnp\n",
    "\n",
    "x = jnp.array([1, 2, 3])\n",
    "print(x)"
   ]
  },
  {
   "cell_type": "code",
   "execution_count": 3,
   "metadata": {},
   "outputs": [],
   "source": [
    "from jax.config import config\n",
    "config.update(\"jax_enable_x64\", True)  #double precision"
   ]
  },
  {
   "cell_type": "code",
   "execution_count": 4,
   "metadata": {},
   "outputs": [],
   "source": [
    "import jax.numpy as jnp\n",
    "\n",
    "from skopt.space import Space\n",
    "from skopt.sampler import Halton\n",
    "from jax import jacfwd\n",
    "\n",
    "# Special Transform Functions\n",
    "from jax import grad, jit, vmap, pmap\n",
    "import jax\n",
    "from jax import jit\n",
    "\n",
    "from jax._src.lax.utils import (\n",
    "    _argnum_weak_type,\n",
    "    _input_dtype,\n",
    "    standard_primitive,)\n",
    "from jax._src.lax import lax\n",
    "from itertools import count\n",
    "index = count()\n",
    "from tqdm import tqdm, trange\n",
    "# import prk_for_optimization as IRK4\n"
   ]
  },
  {
   "cell_type": "code",
   "execution_count": 5,
   "metadata": {},
   "outputs": [],
   "source": [
    "from skopt.space import Space"
   ]
  },
  {
   "cell_type": "code",
   "execution_count": 6,
   "metadata": {},
   "outputs": [
    {
     "name": "stdout",
     "output_type": "stream",
     "text": [
      "[[-0.5        -0.5        -0.5        -0.5        -0.5        -0.5       ]\n",
      " [ 0.25        0.         -0.2        -0.28571429 -0.36363636 -0.38461538]\n",
      " [-0.125       0.5         0.1        -0.07142857 -0.22727273 -0.26923077]\n",
      " [ 0.625      -0.33333333  0.4         0.14285714 -0.09090909 -0.15384615]\n",
      " [-0.3125      0.16666667  0.7         0.35714286  0.04545455 -0.03846154]\n",
      " [ 0.4375      0.66666667 -0.44        0.57142857  0.18181818  0.07692308]\n",
      " [ 0.0625     -0.16666667 -0.14        0.78571429  0.31818182  0.19230769]\n",
      " [ 0.8125      0.33333333  0.16       -0.46938776  0.45454545  0.30769231]\n",
      " [-0.40625     0.83333333  0.46       -0.25510204  0.59090909  0.42307692]\n",
      " [ 0.34375    -0.44444444  0.76       -0.04081633  0.72727273  0.53846154]]\n"
     ]
    }
   ],
   "source": [
    "spacedim = [(-0.5, 1.),(-0.5, 1.),(-0.5, 1.),(-0.5, 1.),(-0.5, 1.),(-0.5, 1.) ]\n",
    "\n",
    "space = Space(spacedim)\n",
    "\n",
    "halton = Halton()\n",
    "n = 10\n",
    "\n",
    "halton_sequence = halton.generate(space, n)\n",
    "halton_sequence = jnp.array(halton_sequence)\n",
    "\n",
    "print(halton_sequence)"
   ]
  },
  {
   "cell_type": "code",
   "execution_count": null,
   "metadata": {},
   "outputs": [],
   "source": []
  }
 ],
 "metadata": {
  "kernelspec": {
   "display_name": "pytorch_env",
   "language": "python",
   "name": "python3"
  },
  "language_info": {
   "codemirror_mode": {
    "name": "ipython",
    "version": 3
   },
   "file_extension": ".py",
   "mimetype": "text/x-python",
   "name": "python",
   "nbconvert_exporter": "python",
   "pygments_lexer": "ipython3",
   "version": "3.9.6"
  },
  "orig_nbformat": 4
 },
 "nbformat": 4,
 "nbformat_minor": 2
}
